{
 "cells": [
  {
   "cell_type": "markdown",
   "metadata": {},
   "source": [
    "# Adversarial Search: Playing Connect 4\n",
    "\n",
    "\n",
    "## Instructions\n",
    "\n",
    "Total Points: Undegraduates 10, graduate students 11\n",
    "\n",
    "Complete this notebook and submit it. The notebook needs to be a complete project report with your implementation, documentation including a short discussion of how your implementation works and your design choices, and experimental results (e.g., tables and charts with simulation results) with a short discussion of what they mean. Use the provided notebook cells and insert additional code and markdown cells as needed.\n",
    "\n",
    "## Introduction\n",
    "\n",
    "You will implement different versions of agents that play Connect 4:\n",
    "\n",
    "> \"Connect 4 is a two-player connection board game, in which the players choose a color and then take turns dropping colored discs into a seven-column, six-row vertically suspended grid. The pieces fall straight down, occupying the lowest available space within the column. The objective of the game is to be the first to form a horizontal, vertical, or diagonal line of four of one's own discs.\" (see [Connect Four on Wikipedia](https://en.wikipedia.org/wiki/Connect_Four))"
   ]
  },
  {
   "cell_type": "markdown",
   "metadata": {},
   "source": [
    "## Task 1: Defining the Search Problem [1 point]\n",
    "\n",
    "Define the components of the search problem:\n",
    "\n",
    "* Initial state\n",
    "* Actions\n",
    "* Transition model\n",
    "* Goal state"
   ]
  },
  {
   "cell_type": "markdown",
   "metadata": {},
   "source": [
    "### Your code/answer goes here.\n",
    "- Initial State: empty board\n",
    "- Actions: drop a piece on arbitrary vertical line\n",
    "- Transition model: the new state resulting from dropping a piece\n",
    "- Goal state: forming a sequence of 4 to win the game"
   ]
  },
  {
   "cell_type": "markdown",
   "metadata": {},
   "source": [
    "How big is the search space?"
   ]
  },
  {
   "cell_type": "markdown",
   "metadata": {},
   "source": [
    "### Your code/ answer goes here.\n",
    "Each grid has three different state, empty(0),the player(1), the opponent(-1). Hence, in a ($m * n$) board, the search space is less than $3^{m * n}$ because several sequences of 4 does not exist."
   ]
  },
  {
   "cell_type": "code",
   "execution_count": 63,
   "metadata": {},
   "outputs": [],
   "source": [
    "import numpy as np\n",
    "import math\n",
    "import matplotlib.pyplot as plt\n",
    "from scipy.signal import convolve2d\n",
    "%matplotlib inline\n",
    "%config InlineBackend.figure_format='retina'\n",
    "plt.style.use('ggplot')\n"
   ]
  },
  {
   "cell_type": "markdown",
   "metadata": {},
   "source": [
    "## Task 2: Game Environment and Random Agent [2 point]\n",
    "\n",
    "Use a numpy character array as the board."
   ]
  },
  {
   "cell_type": "code",
   "execution_count": 64,
   "metadata": {},
   "outputs": [
    {
     "name": "stdout",
     "output_type": "stream",
     "text": [
      "[[0 0 0 0 0 0 0]\n",
      " [0 0 0 0 0 0 0]\n",
      " [0 0 0 0 0 0 0]\n",
      " [0 0 0 0 0 0 0]\n",
      " [0 0 0 0 0 0 0]\n",
      " [0 0 0 0 0 0 0]]\n"
     ]
    }
   ],
   "source": [
    "def empty_board(shape=(6, 7)):\n",
    "    return np.full(shape=shape, fill_value=0)\n",
    "\n",
    "board = empty_board()\n",
    "print(board)"
   ]
  },
  {
   "cell_type": "markdown",
   "metadata": {},
   "source": [
    "Instead of colors for the players use 'x' and 'o' to represent the players. Make sure that your agent functions all have the from: `agent_type(board, player = 'x')`, where board is the current board position and player is the player whose next move it is and who the agent should play."
   ]
  },
  {
   "cell_type": "markdown",
   "metadata": {},
   "source": [
    "Implement the board and helper functions for:\n",
    "\n",
    "* The transition model (result).\n",
    "* The utility function.\n",
    "* Check for terminal states.\n",
    "* A check for available actions.\n",
    "* A function to visualize the board.\n",
    "\n",
    "Make sure that all these functions work with boards of different sizes.\n",
    "\n",
    "Implement an agent that plays randomly and let two random agents play against each other 1000 times. How often does each player win? Is the result expected? "
   ]
  },
  {
   "cell_type": "code",
   "execution_count": 65,
   "metadata": {},
   "outputs": [],
   "source": [
    "# A function to visualize the board\n",
    "def show_board(board,raw_display=False):\n",
    "    tmp_board = np.copy(board)\n",
    "    if raw_display==False:\n",
    "        tmp_board = tmp_board.astype(str)\n",
    "        tmp_board[tmp_board=='0'] = ' '\n",
    "        tmp_board[tmp_board=='1'] = 'x'\n",
    "        tmp_board[tmp_board=='-1'] = 'o'\n",
    "    print(tmp_board)\n",
    "    print()"
   ]
  },
  {
   "cell_type": "markdown",
   "metadata": {},
   "source": [
    "### In my raw board, I would use 0, 1 and -1 respectively to represent empty grid, the piece of player 'x' and player 'o'. It may look like what I show below. "
   ]
  },
  {
   "cell_type": "code",
   "execution_count": 66,
   "metadata": {},
   "outputs": [
    {
     "name": "stdout",
     "output_type": "stream",
     "text": [
      "[[' ' ' ' ' ' ' ' ' ' ' ' ' ']\n",
      " [' ' ' ' ' ' ' ' ' ' ' ' ' ']\n",
      " [' ' ' ' ' ' ' ' ' ' ' ' ' ']\n",
      " [' ' ' ' ' ' ' ' ' ' ' ' ' ']\n",
      " [' ' ' ' ' ' ' ' ' ' ' ' ' ']\n",
      " [' ' ' ' ' ' ' ' ' ' ' ' ' ']]\n",
      "\n",
      "[[0 0 0 0 0 0 0]\n",
      " [0 0 0 0 0 0 0]\n",
      " [0 0 0 0 0 0 0]\n",
      " [0 0 0 0 0 0 0]\n",
      " [0 0 0 0 0 0 0]\n",
      " [0 0 0 0 0 0 0]]\n",
      "\n"
     ]
    }
   ],
   "source": [
    "show_board(board)\n",
    "show_board(board,raw_display=True)"
   ]
  },
  {
   "cell_type": "code",
   "execution_count": 67,
   "metadata": {},
   "outputs": [],
   "source": [
    "# get player's opponent\n",
    "def opponent(player=1):\n",
    "    if player == 1: return -1\n",
    "    else: return 1"
   ]
  },
  {
   "cell_type": "markdown",
   "metadata": {},
   "source": [
    "### I use convolution calculation in place of successive nested for loops for win detection in order to get better performance."
   ]
  },
  {
   "cell_type": "code",
   "execution_count": 68,
   "metadata": {},
   "outputs": [
    {
     "data": {
      "text/html": [
       "<img src=\"https://i.stack.imgur.com/nfjuC.png\" width=\"800\"/>"
      ],
      "text/plain": [
       "<IPython.core.display.Image object>"
      ]
     },
     "execution_count": 68,
     "metadata": {},
     "output_type": "execute_result"
    }
   ],
   "source": [
    "from IPython.display import Image\n",
    "Image(url='https://i.stack.imgur.com/nfjuC.png', width=800)"
   ]
  },
  {
   "cell_type": "markdown",
   "metadata": {},
   "source": [
    "### The function \"check_win\" could determine if a player wins or draw by passing parameter player. Its return values 1, 0, -1, 2 respectively represent win,draw, loss and unknown. The \"unknown\" means it can't determine right now, maybe next move."
   ]
  },
  {
   "cell_type": "code",
   "execution_count": 69,
   "metadata": {},
   "outputs": [],
   "source": [
    "\n",
    "# return 1 as first move agent win,-1 as second move agent win , 0 as draw, 2 as unknown(it means the player don't win)\n",
    "# we have two players, one is using 1 as his piece, the other is using -1 as his piece\n",
    "# we use sequence of 4 as winning condition.\n",
    "def check_win(board,number=4):\n",
    "    board = np.copy(board)\n",
    "    player = 1\n",
    "    horizontal_sequence = np.ones((1,number),dtype=int)\n",
    "    vertical_sequence = np.transpose(horizontal_sequence)\n",
    "    diag1_sequence = np.eye(number)\n",
    "    diag2_sequence = np.fliplr(diag1_sequence)\n",
    "    detection_sequences = [\n",
    "        horizontal_sequence,\n",
    "        vertical_sequence,\n",
    "        diag1_sequence,\n",
    "        diag2_sequence\n",
    "    ]\n",
    "    for sequence in detection_sequences:\n",
    "        if (convolve2d(board == player, sequence, mode=\"valid\") == number).any(): \n",
    "            return 1\n",
    "        elif (convolve2d(board == opponent(player), sequence, mode=\"valid\") == number).any():\n",
    "            return -1\n",
    "\n",
    "    if np.count_nonzero(board==0)<1: return 0\n",
    "    return 2"
   ]
  },
  {
   "cell_type": "code",
   "execution_count": 70,
   "metadata": {},
   "outputs": [],
   "source": [
    "# check for terminal states\n",
    "# return win as 1, draw as 0, loss as -1 and 2 as non-terminal state \n",
    "def is_terminal(state,player=1,number=4):\n",
    "    if player==1: opponent = -1\n",
    "    else : opponent = 1\n",
    "\n",
    "    goal = check_win(state,number)\n",
    "    if 0 == goal : return 0\n",
    "    elif goal==player : return 1\n",
    "    elif goal==opponent(player) : return -1\n",
    "    else : return goal"
   ]
  },
  {
   "cell_type": "code",
   "execution_count": 71,
   "metadata": {},
   "outputs": [
    {
     "name": "stdout",
     "output_type": "stream",
     "text": [
      "[[' ' ' ' ' ' ' ' ' ' ' ' ' ']\n",
      " [' ' ' ' ' ' ' ' ' ' ' ' ' ']\n",
      " [' ' ' ' ' ' ' ' ' ' ' ' ' ']\n",
      " [' ' ' ' ' ' ' ' ' ' ' ' ' ']\n",
      " [' ' ' ' ' ' ' ' ' ' ' ' ' ']\n",
      " [' ' ' ' ' ' ' ' ' ' ' ' ' ']]\n",
      "\n"
     ]
    },
    {
     "data": {
      "text/plain": [
       "[0, 1, 2, 3, 4, 5, 6]"
      ]
     },
     "execution_count": 71,
     "metadata": {},
     "output_type": "execute_result"
    }
   ],
   "source": [
    "# A check for available actions.\n",
    "def available_actions(board):\n",
    "    \"\"\"return possible actions as a vector of indices\"\"\"\n",
    "    return np.where(board[0,:] == 0)[0].tolist()\n",
    "\n",
    "show_board(board)\n",
    "available_actions(board)"
   ]
  },
  {
   "cell_type": "code",
   "execution_count": 72,
   "metadata": {},
   "outputs": [],
   "source": [
    "# The transition model (result)\n",
    "def result(state,player,action):\n",
    "    state = state.copy()\n",
    "    available_r = np.where(state[:,action] == 0)[0]\n",
    "    if len(available_r) > 0 :\n",
    "        r = available_r[-1]\n",
    "        if (state[r,action]!=0):\n",
    "            print(\"Error: Illegal move!\")\n",
    "        state[r,action] = player\n",
    "    return state"
   ]
  },
  {
   "cell_type": "code",
   "execution_count": 73,
   "metadata": {},
   "outputs": [
    {
     "name": "stdout",
     "output_type": "stream",
     "text": [
      "[[' ' ' ' ' ' ' ' ' ' ' ' ' ']\n",
      " [' ' ' ' ' ' ' ' ' ' ' ' ' ']\n",
      " [' ' ' ' ' ' ' ' ' ' ' ' ' ']\n",
      " [' ' ' ' ' ' ' ' ' ' ' ' ' ']\n",
      " [' ' ' ' ' ' ' ' ' ' ' ' ' ']\n",
      " [' ' ' ' ' ' ' ' ' ' ' ' ' ']]\n",
      "\n",
      "\n",
      "[[' ' ' ' ' ' ' ' ' ' ' ' ' ']\n",
      " [' ' ' ' ' ' ' ' ' ' ' ' ' ']\n",
      " [' ' ' ' ' ' ' ' ' ' ' ' ' ']\n",
      " [' ' ' ' ' ' ' ' ' ' ' ' ' ']\n",
      " [' ' ' ' ' ' 'o' ' ' ' ' ' ']\n",
      " [' ' ' ' ' ' 'x' ' ' ' ' ' ']]\n",
      "\n"
     ]
    }
   ],
   "source": [
    "show_board(board)\n",
    "print()\n",
    "board = result(board,1,3)\n",
    "board = result(board,-1,3)\n",
    "show_board(board)"
   ]
  },
  {
   "cell_type": "code",
   "execution_count": 74,
   "metadata": {},
   "outputs": [],
   "source": [
    "#The utility function.\n",
    "def utility(state,player=1,number=4):\n",
    "    \"\"\"check is a state is terminal and return the utility if it is. None means not a terminal mode.\"\"\"\n",
    "    goal = check_win(state,number)\n",
    "    if goal == player: return 1 # win\n",
    "    elif goal == opponent(player): return -1 # loss\n",
    "    elif goal == 2: return None # it can't determine, maybe next move\n",
    "    else: return 0 # draw"
   ]
  },
  {
   "cell_type": "code",
   "execution_count": 75,
   "metadata": {},
   "outputs": [],
   "source": [
    "# A completely randomized player agent\n",
    "def random_player(board, player = None):\n",
    "    \"\"\"Simple player that chooses a random empy square. player is unused\"\"\"\n",
    "    return np.random.choice(available_actions(board))"
   ]
  },
  {
   "cell_type": "code",
   "execution_count": 76,
   "metadata": {},
   "outputs": [],
   "source": [
    "def switch_player(player, agent1_kernel, agent2_kernel):\n",
    "    if player == 1:\n",
    "        return -1, agent2_kernel\n",
    "    else:\n",
    "        return 1, agent1_kernel\n",
    "\n",
    "def play(empty_board_kernel, first_move_agent, second_move_agent, first_move_agent_name='agent_1', second_move_agent_name='agent_2', N = 100, debug=False, plot=False, **kwargs):\n",
    "    \"\"\"Let two agents play each other N times. \"agent1\" starts first. \"agent1\" and \"agent2\" are agent functions that \n",
    "    get the board as the percept and return their next action.\"\"\"\n",
    "    if first_move_agent_name == second_move_agent_name: second_move_agent_name += '_2'\n",
    "\n",
    "    results = {first_move_agent_name: 0, second_move_agent_name: 0, 'draw': 0}\n",
    "    player_dict = {1:first_move_agent_name, -1:second_move_agent_name, 0:'draw'}\n",
    "\n",
    "    for i in range(N):\n",
    "        # board = empty_board_kernel(shape=empty_board_shape)\n",
    "        board = empty_board_kernel()\n",
    "        # print(board.shape)\n",
    "        player, kernel = 1, first_move_agent\n",
    "        if debug: \n",
    "                print('round {} :'.format(i+1))\n",
    "        while True:\n",
    "            a = kernel(board, player)\n",
    "            board = result(board, player, a)\n",
    "            if debug:\n",
    "                print('after {}\\'s move, the board:'.format(player_dict[player]))    \n",
    "                show_board(board)\n",
    "\n",
    "            goal = check_win(board,**kwargs)\n",
    "            if goal != 2: # 2 means the state could not determine right now, maybe next move.\n",
    "                results[player_dict[goal]] += 1\n",
    "                break\n",
    "            \n",
    "            player, kernel = switch_player(player, first_move_agent, second_move_agent)\n",
    "\n",
    "    if plot:\n",
    "        plt.bar(results.keys(), results.values(), color=['red','blue','green'])\n",
    "        plt.ylabel(\"Rounds\")\n",
    "        plt.title('{} vs. {} '.format(first_move_agent_name,second_move_agent_name))\n",
    "        plt.show()\n",
    "    return results"
   ]
  },
  {
   "cell_type": "markdown",
   "metadata": {},
   "source": [
    "Implement an agent that plays randomly and let two random agents play against each other 1000 times. How often does each player win? Is the result expected? \n",
    "\n",
    "### Based on the result of two random agents playing 1000 times in 10 big rounds, the random agent moved first looks like having an advantage over the other. I thought they may have equal probability to win but the results were beyond my expectation. Maybe the reason is first mover advantage.\n"
   ]
  },
  {
   "cell_type": "code",
   "execution_count": 77,
   "metadata": {
    "tags": []
   },
   "outputs": [
    {
     "data": {
      "image/png": "[encoded data removed]",
      "text/plain": [
       "<Figure size 432x288 with 1 Axes>"
      ]
     },
     "metadata": {
      "image/png": {
       "height": 265,
       "width": 391
      }
     },
     "output_type": "display_data"
    },
    {
     "data": {
      "text/plain": [
       "{'random_1': 559, 'random_2': 438, 'draw': 3}"
      ]
     },
     "metadata": {},
     "output_type": "display_data"
    },
    {
     "name": "stdout",
     "output_type": "stream",
     "text": [
      "1.07 s ± 0 ns per loop (mean ± std. dev. of 1 run, 1 loop each)\n"
     ]
    }
   ],
   "source": [
    "%timeit -n 1 -r 1 display(play(lambda: empty_board(shape=(6,7)),random_player, random_player, first_move_agent_name='random_1', second_move_agent_name='random_2', plot=True,N = 1000, number=4))"
   ]
  },
  {
   "cell_type": "code",
   "execution_count": 78,
   "metadata": {},
   "outputs": [],
   "source": [
    "# Your code/ answer goes here."
   ]
  },
  {
   "cell_type": "markdown",
   "metadata": {},
   "source": [
    "## Task 3: Minimax Search with Alpha-Beta Pruning [4 points]\n",
    "\n",
    "### Implement the search starting from a given board and specifying the player.\n",
    "\n"
   ]
  },
  {
   "cell_type": "markdown",
   "metadata": {},
   "source": [
    "__Note:__ The search space for a $6 \\times 7$ board is large. You can experiment with smaller boards (the smallest is $4 \\times 4$) and/or changing the winning rule to connect 3 instead of 4."
   ]
  },
  {
   "cell_type": "code",
   "execution_count": 79,
   "metadata": {},
   "outputs": [],
   "source": [
    "# global variables\n",
    "DEBUG = 1 # 1 ... count nodes, 2 ... debug each node\n",
    "COUNT = 0\n",
    "\n",
    "def minimax_ab_search(board, player = 1, number=4):\n",
    "    \"\"\"start the search.\"\"\"\n",
    "    global DEBUG, COUNT\n",
    "    COUNT = 0\n",
    "    \n",
    "    value, move = max_value_ab(board, player, -math.inf, +math.inf, number)\n",
    "    \n",
    "    if DEBUG >= 1: print(f\"Number of nodes searched: {COUNT}\") \n",
    "    \n",
    "    return value, move\n",
    "\n",
    "def max_value_ab(state, player, alpha, beta, number):\n",
    "    \"\"\"player's best move.\"\"\"\n",
    "    global DEBUG, COUNT\n",
    "    COUNT += 1\n",
    "       \n",
    "    # return utility of state is a terminal state\n",
    "    v = utility(state, player,number)\n",
    "    if DEBUG >= 2: print(\"max: \" + str(state) + str([alpha, beta, v]) ) \n",
    "    if v is not None: return v, None\n",
    "        \n",
    "    v, move = -math.inf, None\n",
    "\n",
    "    # check all possible actions in the state, update alpha and return move with the largest value\n",
    "    for a in available_actions(state):\n",
    "        v2, a2 = min_value_ab(result(state, player, a), player, alpha, beta, number)\n",
    "        if v2 > v:\n",
    "            v, move = v2, a\n",
    "            alpha = max(alpha, v)\n",
    "        if v >= beta: return v, move\n",
    "    \n",
    "    return v, move\n",
    "\n",
    "def min_value_ab(state, player, alpha, beta, number):\n",
    "    \"\"\"opponent's best response.\"\"\"\n",
    "    global DEBUG, COUNT\n",
    "    COUNT += 1\n",
    "    \n",
    "    # return utility of state is a terminal state\n",
    "    v = utility(state, player,number)\n",
    "    if DEBUG >= 2: print(\"min: \" + str(state) + str([alpha, beta, v]) ) \n",
    "    if v is not None: return v, None\n",
    "    \n",
    "    v, move = +math.inf, None\n",
    "\n",
    "    # check all possible actions in the state, update beta and return move with the smallest value\n",
    "    for a in available_actions(state):\n",
    "        v2, a2 = max_value_ab(result(state, opponent(player), a), player, alpha, beta, number)\n",
    "        if v2 < v:\n",
    "            v, move = v2, a\n",
    "            beta = min(beta, v)\n",
    "        if v <= alpha: return v, move\n",
    "    \n",
    "    return v, move"
   ]
  },
  {
   "cell_type": "markdown",
   "metadata": {},
   "source": [
    "### In this part, I would use a smaller board(4 * 4) and changing the winning rule to connect 3 because the full board of connect 4 is time costly."
   ]
  },
  {
   "cell_type": "markdown",
   "metadata": {},
   "source": [
    "Experiment with some manually created boards (at least 5) to check if the agent spots winning opportunities."
   ]
  },
  {
   "cell_type": "code",
   "execution_count": 80,
   "metadata": {
    "tags": []
   },
   "outputs": [
    {
     "name": "stdout",
     "output_type": "stream",
     "text": [
      "[[' ' ' ' ' ' ' ']\n",
      " [' ' ' ' ' ' ' ']\n",
      " ['x' ' ' ' ' ' ']\n",
      " ['x' 'o' 'o' ' ']]\n",
      "\n",
      "Number of nodes searched: 103\n"
     ]
    },
    {
     "data": {
      "text/plain": [
       "(1, 0)"
      ]
     },
     "metadata": {},
     "output_type": "display_data"
    },
    {
     "name": "stdout",
     "output_type": "stream",
     "text": [
      "5.62 ms ± 0 ns per loop (mean ± std. dev. of 1 run, 1 loop each)\n"
     ]
    }
   ],
   "source": [
    "# test 1\n",
    "# The player 'x' would choose 0 to win.\n",
    "DEBUG = 1\n",
    "\n",
    "def create_smaller_board_1(shape=(4,4)):\n",
    "    board = empty_board(shape)\n",
    "    board[-1,0] = 1\n",
    "    board[-2,0] = 1\n",
    "    board[-1,-2] = -1\n",
    "    board[-1,-3] = -1\n",
    "    return board\n",
    "\n",
    "board = create_smaller_board_1()\n",
    "show_board(board)\n",
    "\n",
    "%timeit -n1 -r1 display(minimax_ab_search(board,player=1,number=3))"
   ]
  },
  {
   "cell_type": "code",
   "execution_count": 81,
   "metadata": {
    "tags": []
   },
   "outputs": [
    {
     "name": "stdout",
     "output_type": "stream",
     "text": [
      "[[' ' ' ' ' ' ' ']\n",
      " ['o' ' ' ' ' ' ']\n",
      " ['x' ' ' ' ' ' ']\n",
      " ['x' 'x' 'o' ' ']]\n",
      "\n",
      "Number of nodes searched: 51\n"
     ]
    },
    {
     "data": {
      "text/plain": [
       "(1, 1)"
      ]
     },
     "metadata": {},
     "output_type": "display_data"
    },
    {
     "name": "stdout",
     "output_type": "stream",
     "text": [
      "3.2 ms ± 0 ns per loop (mean ± std. dev. of 1 run, 1 loop each)\n"
     ]
    }
   ],
   "source": [
    "# test2 \n",
    "# The player 'o' would choose 1 to win.\n",
    "def create_smaller_board2(shape=(4,4)):\n",
    "    \"\"\"randomly create a board with round*2 pieces\"\"\"\n",
    "    board = empty_board(shape)\n",
    "    board[-1,0] = 1\n",
    "    board[-2,0] = 1\n",
    "    board[-3,0] = -1\n",
    "    board[-1,-2] = -1\n",
    "    board[-1,-3] = 1\n",
    "    return board\n",
    "\n",
    "board = create_smaller_board2()\n",
    "show_board(board)\n",
    "\n",
    "DEBUG = 1\n",
    "\n",
    "%timeit -n1 -r1 display(minimax_ab_search(board,player=-1,number=3))"
   ]
  },
  {
   "cell_type": "code",
   "execution_count": 82,
   "metadata": {},
   "outputs": [
    {
     "name": "stdout",
     "output_type": "stream",
     "text": [
      "[['o' 'o' ' ' ' ']\n",
      " ['o' 'x' 'o' ' ']\n",
      " ['x' 'x' 'o' ' ']\n",
      " ['x' 'o' 'x' 'x']]\n",
      "\n",
      "Number of nodes searched: 4\n"
     ]
    },
    {
     "data": {
      "text/plain": [
       "(1, 2)"
      ]
     },
     "metadata": {},
     "output_type": "display_data"
    },
    {
     "name": "stdout",
     "output_type": "stream",
     "text": [
      "923 µs ± 0 ns per loop (mean ± std. dev. of 1 run, 1 loop each)\n"
     ]
    }
   ],
   "source": [
    "# test3 \n",
    "# the player 'x' would choose 2 to win\n",
    "def create_smaller_board3(shape=(4,4)):\n",
    "    board = empty_board(shape)\n",
    "    board[3,0] = 1\n",
    "    board[2,0] = 1\n",
    "    board[1,0] = -1\n",
    "    board[0,0] = -1\n",
    "    board[3,1] = -1\n",
    "    board[2,1] = 1\n",
    "    board[1,1] = 1\n",
    "    board[0,1] = -1\n",
    "    board[3,2] = 1\n",
    "    board[2,2] = -1\n",
    "    board[1,2] = -1\n",
    "    board[3,3] = 1\n",
    "    # board[0,2] = -1\n",
    "    return board\n",
    "\n",
    "board = create_smaller_board3(shape=(4,4))\n",
    "show_board(board)\n",
    "\n",
    "DEBUG = 1\n",
    "\n",
    "%timeit -n1 -r1 display(minimax_ab_search(board,player=1,number=3))"
   ]
  },
  {
   "cell_type": "markdown",
   "metadata": {},
   "source": [
    "### This example is not so much straitforward to see why the player 'o' choose 0 to win. However, I try to calculate the processing after that and find that player 'o' will win since player 'x' could solely block it from winning at a maximum of 3 steps. After that, player 'x' can't stop player 'o' from winning the game."
   ]
  },
  {
   "cell_type": "code",
   "execution_count": 83,
   "metadata": {
    "tags": []
   },
   "outputs": [
    {
     "name": "stdout",
     "output_type": "stream",
     "text": [
      "[[' ' ' ' ' ' ' ']\n",
      " [' ' ' ' ' ' ' ']\n",
      " ['x' ' ' ' ' ' ']\n",
      " ['x' 'o' ' ' 'o']]\n",
      "\n",
      "Number of nodes searched: 747\n"
     ]
    },
    {
     "data": {
      "text/plain": [
       "(1, 0)"
      ]
     },
     "metadata": {},
     "output_type": "display_data"
    },
    {
     "name": "stdout",
     "output_type": "stream",
     "text": [
      "36.7 ms ± 0 ns per loop (mean ± std. dev. of 1 run, 1 loop each)\n"
     ]
    }
   ],
   "source": [
    "# test4 \n",
    "# The player 'o' may choose 2 to win.\n",
    "def create_smaller_board4(shape=(4,4)):\n",
    "    \"\"\"randomly create a board with round*2 pieces\"\"\"\n",
    "    board = empty_board(shape)\n",
    "    board[-1,0] = 1\n",
    "    board[-2,0] = 1\n",
    "    board[-1,-1] = -1\n",
    "    board[-1,-3] = -1\n",
    "    return board\n",
    "\n",
    "board = create_smaller_board4()\n",
    "show_board(board)\n",
    "\n",
    "DEBUG = 1\n",
    "\n",
    "%timeit -n1 -r1 display(minimax_ab_search(board,player=-1,number=3))"
   ]
  },
  {
   "cell_type": "code",
   "execution_count": 84,
   "metadata": {
    "tags": []
   },
   "outputs": [
    {
     "name": "stdout",
     "output_type": "stream",
     "text": [
      "[[' ' ' ' ' ' ' ']\n",
      " [' ' ' ' ' ' 'o']\n",
      " [' ' ' ' 'o' 'x']\n",
      " [' ' ' ' 'x' 'x']]\n",
      "\n",
      "Number of nodes searched: 107\n"
     ]
    },
    {
     "data": {
      "text/plain": [
       "(1, 1)"
      ]
     },
     "metadata": {},
     "output_type": "display_data"
    },
    {
     "name": "stdout",
     "output_type": "stream",
     "text": [
      "5.81 ms ± 0 ns per loop (mean ± std. dev. of 1 run, 1 loop each)\n"
     ]
    }
   ],
   "source": [
    "# test5 \n",
    "# The player 'o' may choose 1 to win.\n",
    "def create_smaller_board5(shape=(4,4)):\n",
    "    \"\"\"randomly create a board with round*2 pieces\"\"\"\n",
    "    board = empty_board(shape) \n",
    "    board[1,3] = -1\n",
    "    board[2,3] = 1\n",
    "    board[3,3] = 1\n",
    "    board[3,3] = 1\n",
    "    board[3,2] = 1\n",
    "    board[2,2] = -1\n",
    "    return board\n",
    "\n",
    "board = create_smaller_board5()\n",
    "show_board(board)\n",
    "\n",
    "DEBUG = 1\n",
    "\n",
    "%timeit -n1 -r1 display(minimax_ab_search(board,player=-1,number=3))"
   ]
  },
  {
   "cell_type": "markdown",
   "metadata": {},
   "source": [
    "How long does it take to make a move? Start with a smaller board with 4 columns and make the board larger by adding columns."
   ]
  },
  {
   "cell_type": "markdown",
   "metadata": {},
   "source": [
    "### In a 5 * 5 board of connect 3, it takes roughly 2 million nodes to make a move."
   ]
  },
  {
   "cell_type": "code",
   "execution_count": 85,
   "metadata": {
    "tags": []
   },
   "outputs": [],
   "source": [
    "# board = empty_board(shape=(5,5))\n",
    "# show_board(board)\n",
    "\n",
    "# %timeit -n1 -r1 display(minimax_ab_search(board,player=-1,number=3))"
   ]
  },
  {
   "cell_type": "markdown",
   "metadata": {},
   "source": [
    "### Move ordering\n",
    "\n",
    "Describe and implement a simple move ordering strategy. How does this strategy influence the time it takes to \n",
    "make a move?"
   ]
  },
  {
   "cell_type": "markdown",
   "metadata": {},
   "source": [
    "### It needs to be customized based on the size of (4 * 4) board and the winning rule of connect 3. I found the middle two columns should have more weights due to higher probability of achieving the connect of 3."
   ]
  },
  {
   "cell_type": "code",
   "execution_count": 86,
   "metadata": {},
   "outputs": [],
   "source": [
    "# Your code/ answer goes here.\n",
    "def available_actions(board):\n",
    "    \"\"\"return possible actions as a vector ot indices\"\"\"\n",
    "    actions = np.where(board[0,:] == 0)[0].tolist()\n",
    "\n",
    "    priority = [1,2,2,1]\n",
    "    priority = [priority[i] for i in actions]\n",
    "    actions =[a for _,a in sorted(zip(priority,actions), reverse=True)]\n",
    "    \n",
    "    return actions"
   ]
  },
  {
   "cell_type": "markdown",
   "metadata": {},
   "source": [
    "### For this example, there is a huge improvement after implementation of the move ordering. Without move ordering, it needs to search 747 nodes for making a decision, but with move ordering, it only needs to search 159 nodes for making a decision."
   ]
  },
  {
   "cell_type": "code",
   "execution_count": 87,
   "metadata": {},
   "outputs": [
    {
     "name": "stdout",
     "output_type": "stream",
     "text": [
      "[[' ' ' ' ' ' ' ']\n",
      " [' ' ' ' ' ' ' ']\n",
      " ['x' ' ' ' ' ' ']\n",
      " ['x' 'o' ' ' 'o']]\n",
      "\n",
      "Number of nodes searched: 159\n"
     ]
    },
    {
     "data": {
      "text/plain": [
       "(1, 2)"
      ]
     },
     "metadata": {},
     "output_type": "display_data"
    },
    {
     "name": "stdout",
     "output_type": "stream",
     "text": [
      "7.99 ms ± 0 ns per loop (mean ± std. dev. of 1 run, 1 loop each)\n"
     ]
    }
   ],
   "source": [
    "board = create_smaller_board4()\n",
    "show_board(board)\n",
    "\n",
    "DEBUG = 1\n",
    "\n",
    "# available_actions(board)\n",
    "\n",
    "%timeit -n1 -r1 display(minimax_ab_search(board,player=-1,number=3))"
   ]
  },
  {
   "cell_type": "markdown",
   "metadata": {},
   "source": [
    "### Playtime\n",
    "\n",
    "Let the Minimax Search agent play a random agent on a small board. Analyze wins, losses and draws."
   ]
  },
  {
   "cell_type": "code",
   "execution_count": 88,
   "metadata": {},
   "outputs": [],
   "source": [
    "def minimax_ab_player(board, player = 1,number=4):\n",
    "    value, action = minimax_ab_search(board, player, number)\n",
    "    return action"
   ]
  },
  {
   "cell_type": "markdown",
   "metadata": {},
   "source": [
    "### It seems that minimax search agent performs better than random agent."
   ]
  },
  {
   "cell_type": "code",
   "execution_count": 89,
   "metadata": {},
   "outputs": [],
   "source": [
    "# Your code/ answer goes here.\n",
    "# DEBUG = 0\n",
    "# print()\n",
    "# %timeit -n 1 -r 1 display(play(lambda: empty_board(shape=(4,4)), minimax_ab_player, random_player, first_move_agent_name='alpha_beta_player_1', second_move_agent_name='random_player_1', plot=True, N = 10, number=3))"
   ]
  },
  {
   "cell_type": "markdown",
   "metadata": {},
   "source": [
    "### Both are minimax search agent, the first move agent wins each rounds, which may denote that there is a first mover advantage."
   ]
  },
  {
   "cell_type": "code",
   "execution_count": 90,
   "metadata": {
    "scrolled": true
   },
   "outputs": [],
   "source": [
    "# Your code/ answer goes here.\n",
    "# DEBUG = 0\n",
    "# print()\n",
    "# %timeit -n 1 -r 1 display(play(lambda: empty_board(shape=(4,4)), minimax_ab_player, minimax_ab_player, first_move_agent_name='alpha_beta_player_1', second_move_agent_name='alpha_beta_player_2', plot=True, N = 1, number=3))"
   ]
  },
  {
   "cell_type": "markdown",
   "metadata": {},
   "source": [
    "### I use a simple policy to level the weights of the middle three columns because it has a greater probability to form a connect of 4 over other columns."
   ]
  },
  {
   "cell_type": "code",
   "execution_count": 91,
   "metadata": {},
   "outputs": [
    {
     "data": {
      "text/html": [
       "<img src=\"IMG_2261.jpg\" width=\"400\"/>"
      ],
      "text/plain": [
       "<IPython.core.display.Image object>"
      ]
     },
     "execution_count": 91,
     "metadata": {},
     "output_type": "execute_result"
    }
   ],
   "source": [
    "from IPython.display import Image\n",
    "Image(url='IMG_2261.jpg', width=400)"
   ]
  },
  {
   "cell_type": "code",
   "execution_count": 92,
   "metadata": {},
   "outputs": [],
   "source": [
    "# A check for available actions.\n",
    "def available_actions(board):\n",
    "    \"\"\"return possible actions as a vector of indices\"\"\"\n",
    "    actions = np.where(board[0,:] == 0)[0].tolist()\n",
    "    priority = [1,1,2,2,2,1,1]\n",
    "    priority = [priority[i] for i in actions]\n",
    "    actions =[a for _,a in sorted(zip(priority,actions), reverse=True)]\n",
    "    return actions\n"
   ]
  },
  {
   "cell_type": "markdown",
   "metadata": {},
   "source": [
    "## Task 4: Heuristic Alpha-Beta Tree Search [3 points] \n",
    "\n",
    "### Heuristic evaluation function\n",
    "\n",
    "Define and implement a heuristic evaluation function."
   ]
  },
  {
   "cell_type": "markdown",
   "metadata": {},
   "source": [
    "### This is my heuristic evaluation function.\n",
    "1. For terminal states it is the utility.\n",
    "2. For non-terminal states, I think each action making row/column/diagonal to have 3 pieces connected may have a higher probability to win. Hence, I would give weights for the try of this direction."
   ]
  },
  {
   "cell_type": "markdown",
   "metadata": {},
   "source": [
    "### 'eval_fun_c3' gives weights for possibility of forming 3 pieces connected in a row, column or diagonal. 'eval_fun_c2' gives weights for possibility of forming 2 pieces connected in a row, column or diagonal. "
   ]
  },
  {
   "cell_type": "code",
   "execution_count": 93,
   "metadata": {},
   "outputs": [],
   "source": [
    "# Your code/ answer goes here.\n",
    "def get_score_by_number(board,player,number,baseline_bonus):\n",
    "    board = board.copy()\n",
    "    horizontal_sequence = np.ones((1,number),dtype=int)\n",
    "    vertical_sequence = np.transpose(horizontal_sequence)\n",
    "    diag1_sequence = np.eye(number,dtype=int)\n",
    "    diag2_sequence = np.fliplr(diag1_sequence)\n",
    "    detection_sequences = [\n",
    "        horizontal_sequence,\n",
    "        vertical_sequence,\n",
    "        diag1_sequence,\n",
    "        diag2_sequence\n",
    "    ]\n",
    "    score = 0\n",
    "    for sequence in detection_sequences:\n",
    "        if (convolve2d(board == player, sequence, mode=\"valid\") == number).any(): \n",
    "            score += baseline_bonus\n",
    "        elif (convolve2d(board == opponent(player), sequence, mode=\"valid\") == number).any():\n",
    "            score -= baseline_bonus\n",
    "    return score\n",
    "\n",
    "def eval_fun_c3(state, player = 1, number=4):    \n",
    "    # terminal state?\n",
    "    u = utility(state, player, number)\n",
    "    if u is not None: return u, True\n",
    "    \n",
    "    score = get_score_by_number(board,player,number-1,0.02)\n",
    "    \n",
    "    return score, False\n",
    "\n",
    "def eval_fun_c2(state, player=1, number=4):\n",
    "        # terminal state?\n",
    "    u = utility(state, player, number)\n",
    "    if u is not None: return u, True\n",
    "    \n",
    "    score = get_score_by_number(board,player,number-2,0.01)\n",
    "    \n",
    "    return score, False"
   ]
  },
  {
   "cell_type": "markdown",
   "metadata": {},
   "source": [
    "### Cutting off search \n",
    "\n",
    "Modify your Minimax Search with Alpha-Beta Pruning to cut off search at a specified depth and use the heuristic evaluation function. Experiment with different cutoff values."
   ]
  },
  {
   "cell_type": "code",
   "execution_count": 94,
   "metadata": {},
   "outputs": [],
   "source": [
    "# global variables\n",
    "DEBUG = 1 # 1 ... count nodes, 2 ... debug each node\n",
    "COUNT = 0\n",
    "\n",
    "def heuristic_minimax_ab_search(board, cutoff = None, player = 1, heuristic=eval_fun_c3, number=4):\n",
    "    \"\"\"start the search.\"\"\"\n",
    "    global DEBUG, COUNT\n",
    "    COUNT = 0\n",
    "\n",
    "    value, move = heuristic_max_value_ab(board, player, -math.inf, +math.inf, 0, cutoff, heuristic, number)\n",
    "    \n",
    "    if DEBUG >= 1: print(f\"Number of nodes searched (cutoff = {cutoff}): {COUNT}\") \n",
    "    \n",
    "    return value, move\n",
    "\n",
    "def heuristic_max_value_ab(state, player, alpha, beta, depth, cutoff, heuristic, number):\n",
    "    \"\"\"player's best move.\"\"\"\n",
    "    global DEBUG, COUNT\n",
    "    COUNT += 1\n",
    "    \n",
    "    # cut off and terminal test\n",
    "    v, terminal = heuristic(state, player, number)\n",
    "    if((cutoff is not None and depth >= cutoff) or terminal): \n",
    "        if(terminal): alpha, beta = v, v\n",
    "        if DEBUG >= 2: print(f\"stopped at {depth}: {state} term: {terminal} eval: {v} [{alpha}, {beta}]\" ) \n",
    "        return v, None\n",
    "    \n",
    "    v, move = -math.inf, None\n",
    "\n",
    "    # check all possible actions in the state, update alpha and return move with the largest value\n",
    "    for a in available_actions(state):\n",
    "        v2, a2 = heuristic_min_value_ab(result(state, player, a), player, alpha, beta, depth + 1, cutoff, heuristic, number)\n",
    "        if v2 > v:\n",
    "            v, move = v2, a\n",
    "            alpha = max(alpha, v)\n",
    "        if v >= beta: return v, move\n",
    "    \n",
    "    return v, move\n",
    "\n",
    "def heuristic_min_value_ab(state, player, alpha, beta, depth, cutoff, heuristic, number):\n",
    "    \"\"\"opponent's best response.\"\"\"\n",
    "    global DEBUG, COUNT\n",
    "    COUNT += 1\n",
    "    \n",
    "    # cut off and terminal test\n",
    "    v, terminal = heuristic(state, player, number)\n",
    "    #if((cutoff is not None and depth >= cutoff) or terminal): \n",
    "    # always let the opponent make her move\n",
    "    if(terminal): \n",
    "        if(terminal): alpha, beta = v, v\n",
    "        if DEBUG >= 2: print(f\"stopped at {depth}: {state} term: {terminal} eval: {v} [{alpha}, {beta}]\" ) \n",
    "        return v, None\n",
    "    \n",
    "    v, move = +math.inf, None\n",
    "\n",
    "    # check all possible actions in the state, update beta and return move with the smallest value\n",
    "    for a in available_actions(state):\n",
    "        v2, a2 = heuristic_max_value_ab(result(state, opponent(player), a), player, alpha, beta, depth + 1, cutoff, heuristic, number)\n",
    "        if v2 < v:\n",
    "            v, move = v2, a\n",
    "            beta = min(beta, v)\n",
    "        if v <= alpha: return v, move\n",
    "    \n",
    "    return v, move"
   ]
  },
  {
   "cell_type": "markdown",
   "metadata": {},
   "source": [
    "Experiment with the same manually created boards as above to check if the agent spots wining opportunities."
   ]
  },
  {
   "cell_type": "code",
   "execution_count": 95,
   "metadata": {},
   "outputs": [
    {
     "name": "stdout",
     "output_type": "stream",
     "text": [
      "[[' ' ' ' ' ' ' ' ' ' ' ' ' ']\n",
      " [' ' ' ' ' ' ' ' ' ' ' ' ' ']\n",
      " [' ' ' ' ' ' ' ' ' ' ' ' ' ']\n",
      " [' ' ' ' ' ' ' ' ' ' ' ' ' ']\n",
      " [' ' ' ' ' ' ' ' ' ' ' ' ' ']\n",
      " ['x' 'x' 'x' ' ' 'o' 'o' 'o']]\n",
      "\n",
      "Number of nodes searched (cutoff = 6): 894\n"
     ]
    },
    {
     "data": {
      "text/plain": [
       "(1, 3)"
      ]
     },
     "metadata": {},
     "output_type": "display_data"
    },
    {
     "name": "stdout",
     "output_type": "stream",
     "text": [
      "75.3 ms ± 0 ns per loop (mean ± std. dev. of 1 run, 1 loop each)\n"
     ]
    }
   ],
   "source": [
    "#test1\n",
    "# player 'x' may choose 3 to win\n",
    "def create_board1(shape=(6,7)):\n",
    "    board = empty_board(shape)\n",
    "    board[5,0] = 1\n",
    "    board[5,1] = 1\n",
    "    board[5,2] = 1\n",
    "    board[5,4] = -1\n",
    "    board[5,5] = -1\n",
    "    board[5,6] = -1\n",
    "    return board\n",
    "\n",
    "board = create_board1()\n",
    "show_board(board)\n",
    "\n",
    "DEBUG = 1\n",
    "%timeit -n1 -r1 display(heuristic_minimax_ab_search(board,cutoff=6,player=1))"
   ]
  },
  {
   "cell_type": "code",
   "execution_count": 96,
   "metadata": {},
   "outputs": [
    {
     "name": "stdout",
     "output_type": "stream",
     "text": [
      "[[' ' ' ' ' ' ' ' ' ' ' ' ' ']\n",
      " [' ' ' ' ' ' ' ' ' ' ' ' ' ']\n",
      " [' ' ' ' ' ' ' ' ' ' ' ' ' ']\n",
      " ['x' ' ' ' ' ' ' ' ' ' ' ' ']\n",
      " ['x' ' ' ' ' ' ' ' ' ' ' ' ']\n",
      " ['x' ' ' ' ' ' ' 'o' 'o' 'o']]\n",
      "\n",
      "Number of nodes searched (cutoff = 4): 281\n"
     ]
    },
    {
     "data": {
      "text/plain": [
       "(1, 0)"
      ]
     },
     "metadata": {},
     "output_type": "display_data"
    },
    {
     "name": "stdout",
     "output_type": "stream",
     "text": [
      "26.9 ms ± 0 ns per loop (mean ± std. dev. of 1 run, 1 loop each)\n"
     ]
    }
   ],
   "source": [
    "#test2\n",
    "# player 'x' may choose 0 to win\n",
    "def create_board2(shape=(6,7)):\n",
    "    board = empty_board(shape)\n",
    "    board[5,0] = 1\n",
    "    board[4,0] = 1\n",
    "    board[3,0] = 1\n",
    "    board[5,4] = -1\n",
    "    board[5,5] = -1\n",
    "    board[5,6] = -1\n",
    "    return board\n",
    "\n",
    "board = create_board2()\n",
    "show_board(board)\n",
    "\n",
    "DEBUG = 1\n",
    "%timeit -n1 -r1 display(heuristic_minimax_ab_search(board,cutoff=4,player=1))"
   ]
  },
  {
   "cell_type": "code",
   "execution_count": 97,
   "metadata": {},
   "outputs": [
    {
     "name": "stdout",
     "output_type": "stream",
     "text": [
      "[[' ' ' ' ' ' ' ' ' ' ' ' ' ']\n",
      " [' ' ' ' ' ' ' ' ' ' ' ' ' ']\n",
      " [' ' ' ' ' ' ' ' ' ' ' ' ' ']\n",
      " ['x' ' ' ' ' ' ' ' ' ' ' ' ']\n",
      " ['o' ' ' ' ' ' ' ' ' ' ' ' ']\n",
      " ['x' ' ' ' ' ' ' 'o' 'o' 'o']]\n",
      "\n",
      "Number of nodes searched (cutoff = 4): 231\n"
     ]
    },
    {
     "data": {
      "text/plain": [
       "(-0.02, 3)"
      ]
     },
     "metadata": {},
     "output_type": "display_data"
    },
    {
     "name": "stdout",
     "output_type": "stream",
     "text": [
      "23.6 ms ± 0 ns per loop (mean ± std. dev. of 1 run, 1 loop each)\n"
     ]
    }
   ],
   "source": [
    "#test3\n",
    "# player 'x' may choose 3 to prevent player 'o' from winning.\n",
    "def create_board3(shape=(6,7)):\n",
    "    board = empty_board(shape)\n",
    "    board[5,0] = 1\n",
    "    board[4,0] = -1\n",
    "    board[3,0] = 1\n",
    "    board[5,4] = -1\n",
    "    board[5,5] = -1\n",
    "    board[5,6] = -1\n",
    "    return board\n",
    "\n",
    "board = create_board3()\n",
    "show_board(board)\n",
    "\n",
    "DEBUG = 1\n",
    "%timeit -n1 -r1 display(heuristic_minimax_ab_search(board,cutoff=4,player=1))"
   ]
  },
  {
   "cell_type": "code",
   "execution_count": 98,
   "metadata": {},
   "outputs": [
    {
     "name": "stdout",
     "output_type": "stream",
     "text": [
      "[[' ' ' ' ' ' ' ' ' ' ' ' ' ']\n",
      " [' ' ' ' ' ' ' ' ' ' ' ' ' ']\n",
      " ['o' 'x' ' ' ' ' ' ' ' ' ' ']\n",
      " ['x' 'o' ' ' ' ' ' ' ' ' ' ']\n",
      " ['o' 'o' 'o' ' ' ' ' ' ' 'x']\n",
      " ['x' 'x' 'x' ' ' 'x' 'o' 'o']]\n",
      "\n",
      "Number of nodes searched (cutoff = 4): 144\n"
     ]
    },
    {
     "data": {
      "text/plain": [
       "(1, 3)"
      ]
     },
     "metadata": {},
     "output_type": "display_data"
    },
    {
     "name": "stdout",
     "output_type": "stream",
     "text": [
      "14.1 ms ± 0 ns per loop (mean ± std. dev. of 1 run, 1 loop each)\n"
     ]
    }
   ],
   "source": [
    "#test4\n",
    "# player 'o' may choose 3 to win.\n",
    "def create_board4(shape=(6,7)):\n",
    "    board = empty_board(shape)\n",
    "    board[5,0] = 1\n",
    "    board[5,1] = 1\n",
    "    board[5,2] = 1\n",
    "    board[4,2] = -1\n",
    "    board[4,0] = -1\n",
    "    board[4,1] = -1\n",
    "    board[3,0] = 1\n",
    "    board[2,0] = -1\n",
    "    board[2,1] = 1\n",
    "    board[3,1] = -1\n",
    "    board[5,4] = 1\n",
    "    board[5,5] = -1\n",
    "    board[5,6] = -1\n",
    "    board[4,6] = 1\n",
    "    return board\n",
    "\n",
    "board = create_board4()\n",
    "show_board(board)\n",
    "\n",
    "DEBUG = 1\n",
    "%timeit -n1 -r1 display(heuristic_minimax_ab_search(board,cutoff=4,player=-1))"
   ]
  },
  {
   "cell_type": "code",
   "execution_count": 99,
   "metadata": {},
   "outputs": [
    {
     "name": "stdout",
     "output_type": "stream",
     "text": [
      "[[' ' ' ' ' ' ' ' ' ' ' ' ' ']\n",
      " [' ' ' ' ' ' ' ' ' ' ' ' 'x']\n",
      " [' ' ' ' ' ' ' ' ' ' ' ' 'x']\n",
      " [' ' ' ' ' ' ' ' ' ' 'x' 'o']\n",
      " [' ' ' ' ' ' ' ' ' ' 'o' 'o']\n",
      " [' ' ' ' ' ' 'x' 'o' 'o' 'x']]\n",
      "\n",
      "Number of nodes searched (cutoff = 4): 96\n"
     ]
    },
    {
     "data": {
      "text/plain": [
       "(1, 4)"
      ]
     },
     "metadata": {},
     "output_type": "display_data"
    },
    {
     "name": "stdout",
     "output_type": "stream",
     "text": [
      "10.7 ms ± 0 ns per loop (mean ± std. dev. of 1 run, 1 loop each)\n"
     ]
    }
   ],
   "source": [
    "#test5\n",
    "# player 'x' may choose 4 to win.\n",
    "def create_board5(shape=(6,7)):\n",
    "    board = empty_board(shape)\n",
    "    board[5,3] = 1\n",
    "    board[5,6] = 1\n",
    "    board[4,5] = -1\n",
    "    board[5,5] = -1\n",
    "    board[3,5] = 1\n",
    "    board[5,4] = -1\n",
    "    board[4,6] = -1\n",
    "    board[3,6] = -1\n",
    "    board[2,6] = 1\n",
    "    board[1,6] = 1\n",
    "    return board\n",
    "\n",
    "board = create_board5()\n",
    "show_board(board)\n",
    "\n",
    "DEBUG = 1\n",
    "%timeit -n1 -r1 display(heuristic_minimax_ab_search(board,cutoff=4,player=1))"
   ]
  },
  {
   "cell_type": "markdown",
   "metadata": {},
   "source": [
    "How long does it take to make a move? Start with a smaller board with 4 columns and make the board larger by adding columns."
   ]
  },
  {
   "cell_type": "markdown",
   "metadata": {},
   "source": [
    "### A low cutoff could ease the cost on each decision made. Since I have included the cost in the previous examples, I don't repeat here."
   ]
  },
  {
   "cell_type": "code",
   "execution_count": null,
   "metadata": {},
   "outputs": [],
   "source": []
  },
  {
   "cell_type": "markdown",
   "metadata": {},
   "source": [
    "### Playtime\n",
    "\n",
    "Let two heuristic search agents (different cutoff depth, different heuristic evaluation function) compete against each other on a reasonably sized board. Since there is no randomness, you only need to let them play once."
   ]
  },
  {
   "cell_type": "code",
   "execution_count": 100,
   "metadata": {},
   "outputs": [],
   "source": [
    "def heuristic_player_c4_e3(board, player = 1, cutoff=4, heuristic=eval_fun_c3, number=4):\n",
    "    value, action = heuristic_minimax_ab_search(board, player=player, cutoff=cutoff, heuristic=heuristic,number=number)\n",
    "    return action\n",
    "\n",
    "def heuristic_player_c6_e3(board, player = 1, cutoff=6, heuristic=eval_fun_c3, number=4):\n",
    "    value, action = heuristic_minimax_ab_search(board, player=player, cutoff=cutoff, heuristic=heuristic,number=number)\n",
    "    return action\n",
    "\n",
    "def heuristic_player_c4_e2(board, player = 1, cutoff=4, heuristic=eval_fun_c2, number=4):\n",
    "    value, action = heuristic_minimax_ab_search(board, player=player, cutoff=cutoff, heuristic=heuristic,number=number)\n",
    "    return action\n",
    "\n",
    "def heuristic_player_c6_e2(board, player = 1, cutoff=6, heuristic=eval_fun_c2, number=4):\n",
    "    value, action = heuristic_minimax_ab_search(board, player=player, cutoff=cutoff, heuristic=heuristic,number=number)\n",
    "    return action\n",
    "\n",
    "def heuristic_player_c10_e2(board, player = 1, cutoff=10, heuristic=eval_fun_c2, number=4):\n",
    "    value, action = heuristic_minimax_ab_search(board, player=player, cutoff=cutoff, heuristic=heuristic,number=number)\n",
    "    return action"
   ]
  },
  {
   "cell_type": "markdown",
   "metadata": {},
   "source": [
    "### In terms of solely ten examples, I can't draw a conclusion of which agent is better. Instead, I have a guess that the agent with lower cutoff will perform better on given weights of greater probability of connect 3 while the agent with higher cutoff will perform better on given weights of greater probability of connect 2."
   ]
  },
  {
   "cell_type": "code",
   "execution_count": 101,
   "metadata": {},
   "outputs": [],
   "source": [
    "# Your code/ answer goes here.\n",
    "# DEBUG = 0\n",
    "# %timeit -n 1 -r 1 display(play(lambda: empty_board(shape=(6,7)), heuristic_player_c4_e3, heuristic_player_c4_e2, first_move_agent_name='heuristic_c4_e3', second_move_agent_name='heuristic_c4_e2', plot=True, N = 10, number=4))\n",
    "\n",
    "# %timeit -n 1 -r 1 display(play(lambda: empty_board(shape=(6,7)), heuristic_player_c4_e3, heuristic_player_c6_e3, first_move_agent_name='heuristic_c4_e3', second_move_agent_name='heuristic_c6_e3', plot=True, N = 10, number=4))\n",
    "\n",
    "# %timeit -n 1 -r 1 display(play(lambda: empty_board(shape=(6,7)), heuristic_player_c4_e2, heuristic_player_c6_e3, first_move_agent_name='heuristic_c4_e2', second_move_agent_name='heuristic_c6_e3', plot=True, N = 10, number=4))\n",
    "\n",
    "# %timeit -n 1 -r 1 display(play(lambda: empty_board(shape=(6,7)), heuristic_player_c6_e2, heuristic_player_c6_e3, first_move_agent_name='heuristic_c6_e2', second_move_agent_name='heuristic_c6_e3', plot=True, N = 10, number=4))"
   ]
  },
  {
   "cell_type": "code",
   "execution_count": 102,
   "metadata": {},
   "outputs": [],
   "source": [
    "# Your code/ answer goes here."
   ]
  },
  {
   "cell_type": "markdown",
   "metadata": {},
   "source": [
    "## Challenge task [+ 1 bonus point]\n",
    "\n",
    "Find another student and let your best agent play against the other student's best player. We will set up a class tournament on Canvas. This tournament will continue after the submission deadline."
   ]
  },
  {
   "cell_type": "code",
   "execution_count": null,
   "metadata": {},
   "outputs": [],
   "source": []
  },
  {
   "cell_type": "markdown",
   "metadata": {},
   "source": [
    "## Graduate student advanced task: Pure Monte Carlo Search and Best First Move [1 point]\n",
    "\n",
    "__Undergraduate students:__ This is a bonus task you can attempt if you like [+1 Bonus point].\n",
    "\n",
    "### Pure Monte Carlos Search\n",
    "\n",
    "Implement Pure Monte Carlo Search and investigate how this search performs on the test boards that you have used above. "
   ]
  },
  {
   "cell_type": "code",
   "execution_count": 103,
   "metadata": {},
   "outputs": [],
   "source": [
    "# Your code/ answer goes here."
   ]
  },
  {
   "cell_type": "markdown",
   "metadata": {},
   "source": [
    "### 'playouts_heuristic' simulates N actions based on heuristic search agent with cutoff 2 and pick the action with the highest average utility. 'playout_random' simulates N actions based on random agent and pick the action with the highest average utility.\n"
   ]
  },
  {
   "cell_type": "code",
   "execution_count": 104,
   "metadata": {},
   "outputs": [],
   "source": [
    "def playout_heuristic(state, action, player = 1, number=4):\n",
    "    \"\"\"Perfrom a random playout starting with the given action on the fiven board \n",
    "    and return the utility of the finished game.\"\"\"\n",
    "    state = result(state, player, action)\n",
    "    current_player = opponent(player)\n",
    "    global DEBUG\n",
    "    a = DEBUG\n",
    "\n",
    "    while(True):\n",
    "        # reached terminal state?\n",
    "        u = utility(state, player, number)\n",
    "        if u is not None: return(u)\n",
    "        \n",
    "        DEBUG = 0# stop debugging because it may generate lots of outputs when I use pure Monte Carlo Search\n",
    "        # we use a random playout policy\n",
    "        a = heuristic_player_c6_e3(state, player, cutoff=2, heuristic=eval_fun_c3, number=4)\n",
    "        DEBUG = a\n",
    "        state = result(state, current_player, a)\n",
    "        #print(state)\n",
    "        \n",
    "        # switch between players\n",
    "        current_player = opponent(current_player)\n",
    "    \n",
    "\n",
    "def playout_random(state, action, player = 1, number=4):\n",
    "    \"\"\"Perfrom a random playout starting with the given action on the fiven board \n",
    "    and return the utility of the finished game.\"\"\"\n",
    "    state = result(state, player, action)\n",
    "    current_player = opponent(player)\n",
    "    \n",
    "    while(True):\n",
    "        # reached terminal state?\n",
    "        u = utility(state, player, number)\n",
    "        if u is not None: return(u)\n",
    "        \n",
    "        # we use a random playout policy\n",
    "        a = np.random.choice(available_actions(state))\n",
    "        state = result(state, current_player, a)\n",
    "        #print(state)\n",
    "        \n",
    "        # switch between players\n",
    "        current_player = opponent(current_player)\n",
    "\n",
    "def playouts_heuristic(board, action, player = 1, number=4, N = 100):\n",
    "    \"\"\"Perform N playouts following the given action for the given board.\"\"\"\n",
    "    return [ playout_heuristic(board, action, player, number) for i in range(N) ]\n",
    "\n",
    "def playouts_random(board, action, player = 1, number=4, N = 100):\n",
    "    \"\"\"Perform N playouts following the given action for the given board.\"\"\"\n",
    "    return [ playout_random(board, action, player, number) for i in range(N) ]"
   ]
  },
  {
   "cell_type": "code",
   "execution_count": 105,
   "metadata": {},
   "outputs": [],
   "source": [
    "DEBUG = 1\n",
    "\n",
    "def pmcs(board, N = 100, player = 1, number=4, playout_eval=playouts_random):\n",
    "    \"\"\"Pure Monte Carlo Search. Returns the action that has the largest average utility.\n",
    "    The N playouts are evenly divided between the possible actions.\"\"\"\n",
    "    global DEBUG\n",
    "    \n",
    "    actions = available_actions(board)\n",
    "    n = math.floor(N/len(actions))\n",
    "    if DEBUG >= 1: print(f\"Actions: {actions} ({n} playouts per actions)\")\n",
    "    \n",
    "    ps = { i:np.mean(playout_eval(board, i, player, number=number, N = n)) for i in actions }\n",
    "    if DEBUG >= 1: display(ps)\n",
    "        \n",
    "    action = max(ps, key=ps.get)\n",
    "    return action"
   ]
  },
  {
   "cell_type": "code",
   "execution_count": 106,
   "metadata": {},
   "outputs": [
    {
     "name": "stdout",
     "output_type": "stream",
     "text": [
      "[[' ' ' ' ' ' ' ' ' ' ' ' ' ']\n",
      " [' ' ' ' ' ' ' ' ' ' ' ' ' ']\n",
      " [' ' ' ' ' ' ' ' ' ' ' ' ' ']\n",
      " [' ' ' ' ' ' ' ' ' ' ' ' ' ']\n",
      " [' ' ' ' ' ' ' ' ' ' ' ' ' ']\n",
      " ['x' 'x' 'x' ' ' 'o' 'o' 'o']]\n",
      "\n",
      "Actions: [4, 3, 2, 6, 5, 1, 0] (14 playouts per actions)\n"
     ]
    },
    {
     "data": {
      "text/plain": [
       "{4: 0.2857142857142857,\n",
       " 3: 1.0,\n",
       " 2: 0.14285714285714285,\n",
       " 6: 0.0,\n",
       " 5: 0.14285714285714285,\n",
       " 1: 0.42857142857142855,\n",
       " 0: -0.5714285714285714}"
      ]
     },
     "metadata": {},
     "output_type": "display_data"
    },
    {
     "data": {
      "text/plain": [
       "3"
      ]
     },
     "metadata": {},
     "output_type": "display_data"
    },
    {
     "name": "stdout",
     "output_type": "stream",
     "text": [
      "34.7 ms ± 0 ns per loop (mean ± std. dev. of 1 run, 1 loop each)\n"
     ]
    }
   ],
   "source": [
    "#test1\n",
    "# player 'x' would choose 3 to win\n",
    "board = create_board1()\n",
    "show_board(board)\n",
    "\n",
    "DEBUG = 1\n",
    "%timeit -n1 -r1 display(pmcs(board,player=1))"
   ]
  },
  {
   "cell_type": "code",
   "execution_count": 107,
   "metadata": {},
   "outputs": [
    {
     "name": "stdout",
     "output_type": "stream",
     "text": [
      "[[' ' ' ' ' ' ' ' ' ' ' ' ' ']\n",
      " [' ' ' ' ' ' ' ' ' ' ' ' ' ']\n",
      " [' ' ' ' ' ' ' ' ' ' ' ' ' ']\n",
      " ['x' ' ' ' ' ' ' ' ' ' ' ' ']\n",
      " ['x' ' ' ' ' ' ' ' ' ' ' ' ']\n",
      " ['x' ' ' ' ' ' ' 'o' 'o' 'o']]\n",
      "\n",
      "Actions: [4, 3, 2, 6, 5, 1, 0] (14 playouts per actions)\n"
     ]
    },
    {
     "data": {
      "text/plain": [
       "{4: -0.2857142857142857,\n",
       " 3: 0.7142857142857143,\n",
       " 2: -0.14285714285714285,\n",
       " 6: -0.2857142857142857,\n",
       " 5: 0.5714285714285714,\n",
       " 1: 0.14285714285714285,\n",
       " 0: 1.0}"
      ]
     },
     "metadata": {},
     "output_type": "display_data"
    },
    {
     "data": {
      "text/plain": [
       "0"
      ]
     },
     "metadata": {},
     "output_type": "display_data"
    },
    {
     "name": "stdout",
     "output_type": "stream",
     "text": [
      "42.7 ms ± 0 ns per loop (mean ± std. dev. of 1 run, 1 loop each)\n"
     ]
    }
   ],
   "source": [
    "#test2\n",
    "# player 'x' would choose 0 to win\n",
    "board = create_board2()\n",
    "show_board(board)\n",
    "\n",
    "DEBUG = 1\n",
    "%timeit -n1 -r1 display(pmcs(board,player=1, playout_eval=playouts_random))"
   ]
  },
  {
   "cell_type": "code",
   "execution_count": 108,
   "metadata": {},
   "outputs": [
    {
     "name": "stdout",
     "output_type": "stream",
     "text": [
      "[[' ' ' ' ' ' ' ' ' ' ' ' ' ']\n",
      " [' ' ' ' ' ' ' ' ' ' ' ' ' ']\n",
      " [' ' ' ' ' ' ' ' ' ' ' ' ' ']\n",
      " ['x' ' ' ' ' ' ' ' ' ' ' ' ']\n",
      " ['o' ' ' ' ' ' ' ' ' ' ' ' ']\n",
      " ['x' ' ' ' ' ' ' 'o' 'o' 'o']]\n",
      "\n",
      "Actions: [4, 3, 2, 6, 5, 1, 0] (14 playouts per actions)\n"
     ]
    },
    {
     "data": {
      "text/plain": [
       "{4: 0.5714285714285714,\n",
       " 3: 1.0,\n",
       " 2: 0.42857142857142855,\n",
       " 6: 0.7142857142857143,\n",
       " 5: 0.2857142857142857,\n",
       " 1: 0.42857142857142855,\n",
       " 0: 0.5714285714285714}"
      ]
     },
     "metadata": {},
     "output_type": "display_data"
    },
    {
     "data": {
      "text/plain": [
       "3"
      ]
     },
     "metadata": {},
     "output_type": "display_data"
    },
    {
     "name": "stdout",
     "output_type": "stream",
     "text": [
      "66.9 ms ± 0 ns per loop (mean ± std. dev. of 1 run, 1 loop each)\n"
     ]
    }
   ],
   "source": [
    "#test3\n",
    "# player 'o' would choose 3 to win\n",
    "board = create_board3()\n",
    "show_board(board)\n",
    "\n",
    "DEBUG = 1\n",
    "%timeit -n1 -r1 display(pmcs(board,player=-1,playout_eval=playouts_random))"
   ]
  },
  {
   "cell_type": "code",
   "execution_count": 109,
   "metadata": {},
   "outputs": [
    {
     "name": "stdout",
     "output_type": "stream",
     "text": [
      "[[' ' ' ' ' ' ' ' ' ' ' ' ' ']\n",
      " [' ' ' ' ' ' ' ' ' ' ' ' ' ']\n",
      " ['o' 'x' ' ' ' ' ' ' ' ' ' ']\n",
      " ['x' 'o' ' ' ' ' ' ' ' ' ' ']\n",
      " ['o' 'o' 'o' ' ' ' ' ' ' 'x']\n",
      " ['x' 'x' 'x' ' ' 'x' 'o' 'o']]\n",
      "\n",
      "Actions: [4, 3, 2, 6, 5, 1, 0] (14 playouts per actions)\n"
     ]
    },
    {
     "data": {
      "text/plain": [
       "{4: 0.0,\n",
       " 3: 1.0,\n",
       " 2: 0.0,\n",
       " 6: -0.14285714285714285,\n",
       " 5: 0.14285714285714285,\n",
       " 1: 0.0,\n",
       " 0: -0.2857142857142857}"
      ]
     },
     "metadata": {},
     "output_type": "display_data"
    },
    {
     "data": {
      "text/plain": [
       "3"
      ]
     },
     "metadata": {},
     "output_type": "display_data"
    },
    {
     "name": "stdout",
     "output_type": "stream",
     "text": [
      "32.8 ms ± 0 ns per loop (mean ± std. dev. of 1 run, 1 loop each)\n"
     ]
    }
   ],
   "source": [
    "#test4\n",
    "# player 'o' would choose 3 to win\n",
    "board = create_board4()\n",
    "show_board(board)\n",
    "\n",
    "DEBUG = 1\n",
    "%timeit -n1 -r1 display(pmcs(board,player=-1,playout_eval=playouts_random))"
   ]
  },
  {
   "cell_type": "code",
   "execution_count": 110,
   "metadata": {},
   "outputs": [
    {
     "name": "stdout",
     "output_type": "stream",
     "text": [
      "[[' ' ' ' ' ' ' ' ' ' ' ' ' ']\n",
      " [' ' ' ' ' ' ' ' ' ' ' ' 'x']\n",
      " [' ' ' ' ' ' ' ' ' ' ' ' 'x']\n",
      " [' ' ' ' ' ' ' ' ' ' 'x' 'o']\n",
      " [' ' ' ' ' ' ' ' ' ' 'o' 'o']\n",
      " [' ' ' ' ' ' 'x' 'o' 'o' 'x']]\n",
      "\n",
      "Actions: [4, 3, 2, 6, 5, 1, 0] (14 playouts per actions)\n"
     ]
    },
    {
     "data": {
      "text/plain": [
       "{4: 1.0,\n",
       " 3: 1.0,\n",
       " 2: 0.42857142857142855,\n",
       " 6: 0.2857142857142857,\n",
       " 5: 0.42857142857142855,\n",
       " 1: 0.7142857142857143,\n",
       " 0: 0.7142857142857143}"
      ]
     },
     "metadata": {},
     "output_type": "display_data"
    },
    {
     "data": {
      "text/plain": [
       "4"
      ]
     },
     "metadata": {},
     "output_type": "display_data"
    },
    {
     "name": "stdout",
     "output_type": "stream",
     "text": [
      "49.7 ms ± 0 ns per loop (mean ± std. dev. of 1 run, 1 loop each)\n"
     ]
    }
   ],
   "source": [
    "#test5\n",
    "# player 'x' would choose 4 to win\n",
    "board = create_board5()\n",
    "show_board(board)\n",
    "\n",
    "DEBUG = 1\n",
    "%timeit -n1 -r1 display(pmcs(board,player=1,playout_eval=playouts_random))"
   ]
  },
  {
   "cell_type": "code",
   "execution_count": 111,
   "metadata": {},
   "outputs": [],
   "source": [
    "def pmcs10_player(board, player = 1, number=4):\n",
    "    action = pmcs(board, N = 10, player = player, number=number,playout_eval=playouts_random)\n",
    "    return action\n",
    "\n",
    "def pmcs100_player(board, player = 1, number=4):\n",
    "    action = pmcs(board, N = 100, player = player, number=number,playout_eval=playouts_random)\n",
    "    return action\n",
    "\n",
    "def pmcs1000_player(board, player = 1, number=4):\n",
    "    action = pmcs(board, N = 1000, player = player, number=number,playout_eval=playouts_random)\n",
    "    return action\n",
    "\n",
    "def pmcs3000_player(board, player = 1, number=4):\n",
    "    action = pmcs(board, N = 3000, player = player, number=number,playout_eval=playouts_random)\n",
    "    return action"
   ]
  },
  {
   "cell_type": "markdown",
   "metadata": {},
   "source": [
    "### My heuristic agent has an advantage over pmcs10 agent."
   ]
  },
  {
   "cell_type": "code",
   "execution_count": 112,
   "metadata": {},
   "outputs": [
    {
     "name": "stdout",
     "output_type": "stream",
     "text": [
      "\n"
     ]
    },
    {
     "data": {
      "image/png": "[encoded data removed]",
      "text/plain": [
       "<Figure size 432x288 with 1 Axes>"
      ]
     },
     "metadata": {
      "image/png": {
       "height": 265,
       "width": 378
      }
     },
     "output_type": "display_data"
    },
    {
     "data": {
      "text/plain": [
       "{'heuristic_c4_e3': 9, 'pmcs10_player': 1, 'draw': 0}"
      ]
     },
     "metadata": {},
     "output_type": "display_data"
    },
    {
     "name": "stdout",
     "output_type": "stream",
     "text": [
      "2.12 s ± 0 ns per loop (mean ± std. dev. of 1 run, 1 loop each)\n"
     ]
    }
   ],
   "source": [
    "DEBUG = 0\n",
    "print()\n",
    "%timeit -n 1 -r 1 display(play(lambda: empty_board(shape=(6,7)), heuristic_player_c4_e3, pmcs10_player, first_move_agent_name='heuristic_c4_e3', second_move_agent_name='pmcs10_player', plot=True, N = 10, number=4))"
   ]
  },
  {
   "cell_type": "markdown",
   "metadata": {},
   "source": [
    "### My heruistic agent still has advantage over the pmcs100 agent."
   ]
  },
  {
   "cell_type": "code",
   "execution_count": 113,
   "metadata": {},
   "outputs": [
    {
     "data": {
      "image/png": "[encoded data removed]",
      "text/plain": [
       "<Figure size 432x288 with 1 Axes>"
      ]
     },
     "metadata": {
      "image/png": {
       "height": 265,
       "width": 378
      }
     },
     "output_type": "display_data"
    },
    {
     "data": {
      "text/plain": [
       "{'heuristic_c6_e3': 9, 'pmcs100_player': 1, 'draw': 0}"
      ]
     },
     "metadata": {},
     "output_type": "display_data"
    },
    {
     "name": "stdout",
     "output_type": "stream",
     "text": [
      "16.6 s ± 0 ns per loop (mean ± std. dev. of 1 run, 1 loop each)\n"
     ]
    }
   ],
   "source": [
    "%timeit -n 1 -r 1 display(play(lambda: empty_board(shape=(6,7)), heuristic_player_c6_e3, pmcs100_player, first_move_agent_name='heuristic_c6_e3', second_move_agent_name='pmcs100_player', plot=True, N = 10, number=4))"
   ]
  },
  {
   "cell_type": "markdown",
   "metadata": {},
   "source": [
    "### It seems pmcs1000 improve a bit over previous pmcs agent, so I think the pmcs agent played more rounds will have a better performance."
   ]
  },
  {
   "cell_type": "code",
   "execution_count": 114,
   "metadata": {},
   "outputs": [],
   "source": [
    "# %timeit -n 1 -r 1 display(play(lambda: empty_board(shape=(6,7)), heuristic_player_c6_e3, pmcs1000_player, first_move_agent_name='heuristic_c6_e3', second_move_agent_name='pmcs1000_player', plot=True, N = 10, number=4))"
   ]
  },
  {
   "cell_type": "code",
   "execution_count": 115,
   "metadata": {},
   "outputs": [],
   "source": [
    "# %timeit -n 1 -r 1 display(play(lambda: empty_board(shape=(6,7)), heuristic_player_c6_e3, pmcs3000_player, first_move_agent_name='heuristic_c6_e3', second_move_agent_name='pmcs3000_player', plot=True, N = 10, number=4))"
   ]
  },
  {
   "cell_type": "markdown",
   "metadata": {},
   "source": [
    "### Best First Move\n",
    "\n",
    "How would you determine what the best first move is? You can use Pure Monte Carlo Search or any algorithms \n",
    "that you have implemented above."
   ]
  },
  {
   "cell_type": "markdown",
   "metadata": {},
   "source": [
    "### I would use Pure Monte Carlo Search with random playouts to determine the first move because it's faster."
   ]
  },
  {
   "cell_type": "code",
   "execution_count": 116,
   "metadata": {
    "tags": []
   },
   "outputs": [
    {
     "name": "stdout",
     "output_type": "stream",
     "text": [
      "[[' ' ' ' ' ' ' ' ' ' ' ' ' ']\n",
      " [' ' ' ' ' ' ' ' ' ' ' ' ' ']\n",
      " [' ' ' ' ' ' ' ' ' ' ' ' ' ']\n",
      " [' ' ' ' ' ' ' ' ' ' ' ' ' ']\n",
      " [' ' ' ' ' ' ' ' ' ' ' ' ' ']\n",
      " [' ' ' ' ' ' ' ' ' ' ' ' ' ']]\n",
      "\n",
      "Actions: [4, 3, 2, 6, 5, 1, 0] (14 playouts per actions)\n"
     ]
    },
    {
     "data": {
      "text/plain": [
       "{4: 1.0, 3: 0.0, 2: 0.0, 6: 0.0, 5: 0.0, 1: 0.0, 0: -1.0}"
      ]
     },
     "metadata": {},
     "output_type": "display_data"
    },
    {
     "data": {
      "text/plain": [
       "4"
      ]
     },
     "metadata": {},
     "output_type": "display_data"
    },
    {
     "name": "stdout",
     "output_type": "stream",
     "text": [
      "3.69 s ± 0 ns per loop (mean ± std. dev. of 1 run, 1 loop each)\n"
     ]
    }
   ],
   "source": [
    "board = empty_board()\n",
    "show_board(board)\n",
    "\n",
    "DEBUG = 1\n",
    "%timeit -n1 -r1 display(pmcs(board,player=1,playout_eval=playouts_heuristic))"
   ]
  },
  {
   "cell_type": "code",
   "execution_count": 117,
   "metadata": {
    "tags": []
   },
   "outputs": [
    {
     "name": "stdout",
     "output_type": "stream",
     "text": [
      "[[' ' ' ' ' ' ' ' ' ' ' ' ' ']\n",
      " [' ' ' ' ' ' ' ' ' ' ' ' ' ']\n",
      " [' ' ' ' ' ' ' ' ' ' ' ' ' ']\n",
      " [' ' ' ' ' ' ' ' ' ' ' ' ' ']\n",
      " [' ' ' ' ' ' ' ' ' ' ' ' ' ']\n",
      " [' ' ' ' ' ' ' ' ' ' ' ' ' ']]\n",
      "\n",
      "Actions: [4, 3, 2, 6, 5, 1, 0] (14 playouts per actions)\n"
     ]
    },
    {
     "data": {
      "text/plain": [
       "{4: 0.14285714285714285,\n",
       " 3: 0.42857142857142855,\n",
       " 2: 0.0,\n",
       " 6: -0.42857142857142855,\n",
       " 5: 0.14285714285714285,\n",
       " 1: 0.2857142857142857,\n",
       " 0: -0.14285714285714285}"
      ]
     },
     "metadata": {},
     "output_type": "display_data"
    },
    {
     "data": {
      "text/plain": [
       "3"
      ]
     },
     "metadata": {},
     "output_type": "display_data"
    },
    {
     "name": "stdout",
     "output_type": "stream",
     "text": [
      "102 ms ± 0 ns per loop (mean ± std. dev. of 1 run, 1 loop each)\n"
     ]
    }
   ],
   "source": [
    "board = empty_board()\n",
    "show_board(board)\n",
    "\n",
    "DEBUG = 1\n",
    "%timeit -n1 -r1 display(pmcs(board,player=1,playout_eval=playouts_random))"
   ]
  },
  {
   "cell_type": "code",
   "execution_count": 118,
   "metadata": {},
   "outputs": [],
   "source": [
    "# Your code/ answer goes here."
   ]
  },
  {
   "cell_type": "code",
   "execution_count": 119,
   "metadata": {},
   "outputs": [],
   "source": [
    "# %timeit -n 1 -r 1 display(play(lambda: empty_board(shape=(6,7)), pmcs1000_player, pmcs1000_player, first_move_agent_name='heuristic_c6_e3', second_move_agent_name='pmcs1000_player', plot=True, N = 10, number=4))"
   ]
  },
  {
   "cell_type": "code",
   "execution_count": 120,
   "metadata": {},
   "outputs": [],
   "source": [
    "import Sabrina"
   ]
  },
  {
   "cell_type": "code",
   "execution_count": null,
   "metadata": {},
   "outputs": [],
   "source": [
    "Sabrina.DEBUG = 0\n",
    "DEBUG = 0\n",
    "%timeit -n 1 -r 1 display(play(lambda: empty_board(shape=(6,7)), pmcs1000_player, Sabrina.ucb1_1000_player_with_first_moves, first_move_agent_name='liangchao.agent', second_move_agent_name='Sabrina.agent', plot=True, N = 10, number=4))"
   ]
  },
  {
   "cell_type": "code",
   "execution_count": null,
   "metadata": {},
   "outputs": [],
   "source": []
  }
 ],
 "metadata": {
  "kernelspec": {
   "display_name": "Python 3",
   "language": "python",
   "name": "python3"
  },
  "language_info": {
   "codemirror_mode": {
    "name": "ipython",
    "version": 3
   },
   "file_extension": ".py",
   "mimetype": "text/x-python",
   "name": "python",
   "nbconvert_exporter": "python",
   "pygments_lexer": "ipython3",
   "version": "3.8.8"
  }
 },
 "nbformat": 4,
 "nbformat_minor": 4
}
