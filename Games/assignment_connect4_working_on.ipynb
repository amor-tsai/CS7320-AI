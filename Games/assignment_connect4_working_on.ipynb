{
 "cells": [
  {
   "cell_type": "markdown",
   "metadata": {},
   "source": [
    "# Adversarial Search: Playing Connect 4\n",
    "\n",
    "\n",
    "## Instructions\n",
    "\n",
    "Total Points: Undegraduates 10, graduate students 11\n",
    "\n",
    "Complete this notebook and submit it. The notebook needs to be a complete project report with your implementation, documentation including a short discussion of how your implementation works and your design choices, and experimental results (e.g., tables and charts with simulation results) with a short discussion of what they mean. Use the provided notebook cells and insert additional code and markdown cells as needed.\n",
    "\n",
    "## Introduction\n",
    "\n",
    "You will implement different versions of agents that play Connect 4:\n",
    "\n",
    "> \"Connect 4 is a two-player connection board game, in which the players choose a color and then take turns dropping colored discs into a seven-column, six-row vertically suspended grid. The pieces fall straight down, occupying the lowest available space within the column. The objective of the game is to be the first to form a horizontal, vertical, or diagonal line of four of one's own discs.\" (see [Connect Four on Wikipedia](https://en.wikipedia.org/wiki/Connect_Four))"
   ]
  },
  {
   "cell_type": "markdown",
   "metadata": {},
   "source": [
    "## Task 1: Defining the Search Problem [1 point]\n",
    "\n",
    "Define the components of the search problem:\n",
    "\n",
    "* Initial state\n",
    "* Actions\n",
    "* Transition model\n",
    "* Goal state"
   ]
  },
  {
   "source": [
    "### Your code/answer goes here.\n",
    "- Initial State: empty board\n",
    "- Actions: drop a piece on arbitrary vertical line\n",
    "- Transition model: the new state resulting from dropping a piece\n",
    "- Goal state: forming a sequence of 4 to win the game"
   ],
   "cell_type": "markdown",
   "metadata": {}
  },
  {
   "cell_type": "markdown",
   "metadata": {},
   "source": [
    "How big is the search space?"
   ]
  },
  {
   "source": [
    "### Your code/ answer goes here.\n",
    "Each grid has three different state, empty(0),the player(1), the opponent(-1). Hence, in a ($m * n$) board, the search space is less than $3^{m * n}$ because several sequences of 4 does not exist."
   ],
   "cell_type": "markdown",
   "metadata": {}
  },
  {
   "cell_type": "code",
   "execution_count": 1,
   "metadata": {},
   "outputs": [],
   "source": [
    "# Resets the namespace by removing all names defined by the user, if called without arguments. It can reduce the frequency of restarting kernel to clean all variables.\n",
    "%reset -f"
   ]
  },
  {
   "cell_type": "code",
   "execution_count": 2,
   "metadata": {},
   "outputs": [],
   "source": [
    "import numpy as np\n",
    "import math\n",
    "import matplotlib.pyplot as plt\n",
    "%matplotlib inline\n",
    "%config InlineBackend.figure_format='retina'\n",
    "plt.style.use('ggplot')\n"
   ]
  },
  {
   "cell_type": "markdown",
   "metadata": {},
   "source": [
    "## Task 2: Game Environment and Random Agent [2 point]\n",
    "\n",
    "Use a numpy character array as the board."
   ]
  },
  {
   "cell_type": "code",
   "execution_count": 3,
   "metadata": {},
   "outputs": [
    {
     "output_type": "stream",
     "name": "stdout",
     "text": [
      "[[0 0 0 0 0 0 0]\n [0 0 0 0 0 0 0]\n [0 0 0 0 0 0 0]\n [0 0 0 0 0 0 0]\n [0 0 0 0 0 0 0]\n [0 0 0 0 0 0 0]]\n"
     ]
    }
   ],
   "source": [
    "def empty_board(shape=(6, 7)):\n",
    "    return np.full(shape=shape, fill_value=0)\n",
    "\n",
    "board = empty_board()\n",
    "print(board)"
   ]
  },
  {
   "cell_type": "markdown",
   "metadata": {},
   "source": [
    "Instead of colors for the players use 'x' and 'o' to represent the players. Make sure that your agent functions all have the from: `agent_type(board, player = 'x')`, where board is the current board position and player is the player whose next move it is and who the agent should play."
   ]
  },
  {
   "cell_type": "markdown",
   "metadata": {},
   "source": [
    "Implement the board and helper functions for:\n",
    "\n",
    "* The transition model (result).\n",
    "* The utility function.\n",
    "* Check for terminal states.\n",
    "* A check for available actions.\n",
    "* A function to visualize the board.\n",
    "\n",
    "Make sure that all these functions work with boards of different sizes.\n",
    "\n",
    "Implement an agent that plays randomly and let two random agents play against each other 1000 times. How often does each player win? Is the result expected? "
   ]
  },
  {
   "cell_type": "code",
   "execution_count": 4,
   "metadata": {},
   "outputs": [],
   "source": [
    "# A function to visualize the board\n",
    "def show_board(board,raw_display=False):\n",
    "    tmp_board = board.copy()\n",
    "    if raw_display==False:\n",
    "        tmp_board = tmp_board.astype(str)\n",
    "        tmp_board[tmp_board=='0'] = ' '\n",
    "        tmp_board[tmp_board=='1'] = 'x'\n",
    "        tmp_board[tmp_board=='-1'] = 'o'\n",
    "    print(tmp_board)\n",
    "    print()"
   ]
  },
  {
   "source": [
    "### In my raw board, I would use 0, 1 and -1 respectively to represent empty grid, the piece of player 'x' and player 'o'. It may look like what I show below. "
   ],
   "cell_type": "markdown",
   "metadata": {}
  },
  {
   "cell_type": "code",
   "execution_count": 5,
   "metadata": {},
   "outputs": [
    {
     "output_type": "stream",
     "name": "stdout",
     "text": [
      "[[' ' ' ' ' ' ' ' ' ' ' ' ' ']\n [' ' ' ' ' ' ' ' ' ' ' ' ' ']\n [' ' ' ' ' ' ' ' ' ' ' ' ' ']\n [' ' ' ' ' ' ' ' ' ' ' ' ' ']\n [' ' ' ' ' ' ' ' ' ' ' ' ' ']\n [' ' ' ' ' ' ' ' ' ' ' ' ' ']]\n\n[[0 0 0 0 0 0 0]\n [0 0 0 0 0 0 0]\n [0 0 0 0 0 0 0]\n [0 0 0 0 0 0 0]\n [0 0 0 0 0 0 0]\n [0 0 0 0 0 0 0]]\n\n"
     ]
    }
   ],
   "source": [
    "show_board(board)\n",
    "show_board(board,raw_display=True)"
   ]
  },
  {
   "cell_type": "code",
   "execution_count": 6,
   "metadata": {},
   "outputs": [],
   "source": [
    "# get player's opponent\n",
    "def opponent(player=1):\n",
    "    if player == 1: return -1\n",
    "    else: return 1"
   ]
  },
  {
   "source": [
    "### I use convolution calculation in place of successive nested for loops for win detection in order to get better performance."
   ],
   "cell_type": "markdown",
   "metadata": {}
  },
  {
   "cell_type": "code",
   "execution_count": 7,
   "metadata": {},
   "outputs": [
    {
     "output_type": "execute_result",
     "data": {
      "text/html": "<img src=\"https://i.stack.imgur.com/nfjuC.png\" width=\"800\"/>",
      "text/plain": [
       "<IPython.core.display.Image object>"
      ]
     },
     "metadata": {},
     "execution_count": 7
    }
   ],
   "source": [
    "from IPython.display import Image\n",
    "Image(url='https://i.stack.imgur.com/nfjuC.png', width=800)"
   ]
  },
  {
   "source": [
    "### The function \"check_win\" could determine if a player wins or draw by passing parameter player. Its return values 1, 0, -1, 2 respectively represent win,draw, loss and unknown. The \"unknown\" means it can't determine right now, maybe next move."
   ],
   "cell_type": "markdown",
   "metadata": {}
  },
  {
   "cell_type": "code",
   "execution_count": 8,
   "metadata": {},
   "outputs": [],
   "source": [
    "from scipy.signal import convolve2d\n",
    "# return 1 as first move agent win,-1 as second move agent win , 0 as draw, 2 as unknown(it means the player don't win)\n",
    "# we have two players, one is using 1 as his piece, the other is using -1 as his piece\n",
    "# we use sequence of 4 as winning condition.\n",
    "def check_win(board,number=4):\n",
    "    player_x = 1\n",
    "    player_o = opponent(player_x)\n",
    "    horizontal_sequence = np.ones((1,number),dtype=int)\n",
    "    vertical_sequence = np.transpose(horizontal_sequence)\n",
    "    diag1_sequence = np.eye(4)\n",
    "    diag2_sequence = np.fliplr(diag1_sequence)\n",
    "    detection_sequences = [\n",
    "        horizontal_sequence,\n",
    "        vertical_sequence,\n",
    "        diag1_sequence,\n",
    "        diag2_sequence\n",
    "    ]\n",
    "    for sequence in detection_sequences:\n",
    "        if (convolve2d(board == player_x, sequence, mode=\"valid\") == number).any(): \n",
    "            return 1\n",
    "        elif (convolve2d(board == player_o, sequence, mode=\"valid\") == number).any():\n",
    "            return -1\n",
    "\n",
    "    if np.count_nonzero(board==0)<1: return 0\n",
    "    return 2"
   ]
  },
  {
   "cell_type": "code",
   "execution_count": 9,
   "metadata": {},
   "outputs": [],
   "source": [
    "# check for terminal states\n",
    "# return win as 1, draw as 0, loss as -1 and 2 as non-terminal state \n",
    "def is_terminal(state,player=1,number=4):\n",
    "    if player==1: opponent = -1\n",
    "    else : opponent = 1\n",
    "\n",
    "    goal = check_win(state,number)\n",
    "    if 0 == goal : return 0\n",
    "    elif goal==player : return 1\n",
    "    elif goal==opponent(player) : return -1\n",
    "    else : return goal"
   ]
  },
  {
   "cell_type": "code",
   "execution_count": 10,
   "metadata": {},
   "outputs": [
    {
     "output_type": "stream",
     "name": "stdout",
     "text": [
      "[[' ' ' ' ' ' ' ' ' ' ' ' ' ']\n [' ' ' ' ' ' ' ' ' ' ' ' ' ']\n [' ' ' ' ' ' ' ' ' ' ' ' ' ']\n [' ' ' ' ' ' ' ' ' ' ' ' ' ']\n [' ' ' ' ' ' ' ' ' ' ' ' ' ']\n [' ' ' ' ' ' ' ' ' ' ' ' ' ']]\n\n"
     ]
    },
    {
     "output_type": "execute_result",
     "data": {
      "text/plain": [
       "[0, 1, 2, 3, 4, 5, 6]"
      ]
     },
     "metadata": {},
     "execution_count": 10
    }
   ],
   "source": [
    "# A check for available actions.\n",
    "def available_actions(board):\n",
    "    \"\"\"return possible actions as a vector of indices\"\"\"\n",
    "    return np.where(board[0,:] == 0)[0].tolist()\n",
    "\n",
    "show_board(board)\n",
    "available_actions(board)"
   ]
  },
  {
   "cell_type": "code",
   "execution_count": 11,
   "metadata": {},
   "outputs": [],
   "source": [
    "# The transition model (result)\n",
    "def result(state,player,action):\n",
    "    state = state.copy()\n",
    "    available_r = np.where(state[:,action] == 0)[0]\n",
    "    if len(available_r) > 0 :\n",
    "        r = available_r[-1]\n",
    "        if (state[r,action]!=0):\n",
    "            print(\"Error: Illegal move!\")\n",
    "        state[r,action] = player\n",
    "    return state"
   ]
  },
  {
   "cell_type": "code",
   "execution_count": 12,
   "metadata": {},
   "outputs": [
    {
     "output_type": "stream",
     "name": "stdout",
     "text": [
      "[[' ' ' ' ' ' ' ' ' ' ' ' ' ']\n [' ' ' ' ' ' ' ' ' ' ' ' ' ']\n [' ' ' ' ' ' ' ' ' ' ' ' ' ']\n [' ' ' ' ' ' ' ' ' ' ' ' ' ']\n [' ' ' ' ' ' ' ' ' ' ' ' ' ']\n [' ' ' ' ' ' ' ' ' ' ' ' ' ']]\n\n\n[[' ' ' ' ' ' ' ' ' ' ' ' ' ']\n [' ' ' ' ' ' ' ' ' ' ' ' ' ']\n [' ' ' ' ' ' ' ' ' ' ' ' ' ']\n [' ' ' ' ' ' ' ' ' ' ' ' ' ']\n [' ' ' ' ' ' 'o' ' ' ' ' ' ']\n [' ' ' ' ' ' 'x' ' ' ' ' ' ']]\n\n"
     ]
    }
   ],
   "source": [
    "show_board(board)\n",
    "print()\n",
    "board = result(board,1,3)\n",
    "board = result(board,-1,3)\n",
    "show_board(board)"
   ]
  },
  {
   "cell_type": "code",
   "execution_count": 13,
   "metadata": {},
   "outputs": [],
   "source": [
    "#The utility function.\n",
    "def utility(state,player=1,**args):\n",
    "    \"\"\"check is a state is terminal and return the utility if it is. None means not a terminal mode.\"\"\"\n",
    "    goal = check_win(state,**args)\n",
    "    if goal == player: return 1 # win\n",
    "    elif goal == opponent(player): return -1 # loss\n",
    "    elif goal == 2: return None # it can't determine, maybe next move\n",
    "    else: return 0 # draw"
   ]
  },
  {
   "cell_type": "code",
   "execution_count": 14,
   "metadata": {},
   "outputs": [],
   "source": [
    "# A completely randomized player agent\n",
    "def random_player(board, player = None):\n",
    "    \"\"\"Simple player that chooses a random empy square. player is unused\"\"\"\n",
    "    return np.random.choice(available_actions(board))"
   ]
  },
  {
   "cell_type": "code",
   "execution_count": 15,
   "metadata": {},
   "outputs": [],
   "source": [
    "def switch_player(player, agent1_kernel, agent2_kernel):\n",
    "    if player == 1:\n",
    "        return -1, agent2_kernel\n",
    "    else:\n",
    "        return 1, agent1_kernel\n",
    "\n",
    "def play(empty_board_kernel, first_move_agent, second_move_agent, first_move_agent_name='agent_1', second_move_agent_name='agent_2', N = 100, debug=False, plot=False, **kwargs):\n",
    "    \"\"\"Let two agents play each other N times. \"agent1\" starts first. \"agent1\" and \"agent2\" are agent functions that \n",
    "    get the board as the percept and return their next action.\"\"\"\n",
    "    if first_move_agent_name == second_move_agent_name: second_move_agent_name += '_2'\n",
    "\n",
    "    results = {first_move_agent_name: 0, second_move_agent_name: 0, 'draw': 0}\n",
    "    player_dict = {1:first_move_agent_name, -1:second_move_agent_name, 0:'draw'}\n",
    "\n",
    "    for i in range(N):\n",
    "        # board = empty_board_kernel(shape=empty_board_shape)\n",
    "        board = empty_board_kernel()\n",
    "        # print(board.shape)\n",
    "        player, kernel = 1, first_move_agent\n",
    "        if debug: \n",
    "                print('round {} :'.format(i+1))\n",
    "        while True:\n",
    "            a = kernel(board, player)\n",
    "            board = result(board, player, a)\n",
    "            if debug:\n",
    "                print('after {}\\'s move, the board:'.format(player_dict[player]))    \n",
    "                show_board(board)\n",
    "\n",
    "            goal = check_win(board,**kwargs)\n",
    "            if goal != 2: # 2 means the state could not determine right now, maybe next move.\n",
    "                results[player_dict[goal]] += 1\n",
    "                break\n",
    "            \n",
    "            player, kernel = switch_player(player, first_move_agent, second_move_agent)\n",
    "\n",
    "    if plot:\n",
    "        plt.bar(results.keys(), results.values(), color=['red','blue','green'])\n",
    "        plt.ylabel(\"Rounds\")\n",
    "        plt.title('{} vs. {} '.format(first_move_agent_name,second_move_agent_name))\n",
    "        plt.show()\n",
    "    return results"
   ]
  },
  {
   "source": [
    "Implement an agent that plays randomly and let two random agents play against each other 1000 times. How often does each player win? Is the result expected? \n",
    "\n",
    "### Based on the result of two random agents playing 1000 times in 10 big rounds, the random agent moved first looks like having an advantage over the other. I thought they may have equal probability to win but the results were beyond my expectation.\n"
   ],
   "cell_type": "markdown",
   "metadata": {}
  },
  {
   "cell_type": "code",
   "execution_count": 16,
   "metadata": {},
   "outputs": [],
   "source": [
    "# %timeit -n 1 -r 1 display(play(lambda: empty_board(shape=(6,7)), random_player, random_player, debug=1, N = 1, number=4))"
   ]
  },
  {
   "cell_type": "code",
   "execution_count": 17,
   "metadata": {},
   "outputs": [
    {
     "output_type": "display_data",
     "data": {
      "text/plain": "<Figure size 432x288 with 1 Axes>",
      "image/png": "[encoded data removed]"
     },
     "metadata": {
      "image/png": {
       "width": 391,
       "height": 265
      }
     }
    },
    {
     "output_type": "display_data",
     "data": {
      "text/plain": "{'random_1': 574, 'random_2': 423, 'draw': 3}"
     },
     "metadata": {}
    },
    {
     "output_type": "stream",
     "name": "stdout",
     "text": [
      "972 ms ± 0 ns per loop (mean ± std. dev. of 1 run, 1 loop each)\n"
     ]
    }
   ],
   "source": [
    "%timeit -n 1 -r 1 display(play(lambda: empty_board(shape=(6,7)),random_player, random_player, first_move_agent_name='random_1', second_move_agent_name='random_2', plot=True,N = 1000, number=4))"
   ]
  },
  {
   "cell_type": "code",
   "execution_count": 18,
   "metadata": {},
   "outputs": [],
   "source": [
    "# Your code/ answer goes here."
   ]
  },
  {
   "cell_type": "markdown",
   "metadata": {},
   "source": [
    "## Task 3: Minimax Search with Alpha-Beta Pruning [4 points]\n",
    "\n",
    "### Implement the search starting from a given board and specifying the player.\n",
    "\n"
   ]
  },
  {
   "cell_type": "markdown",
   "metadata": {},
   "source": [
    "__Note:__ The search space for a $6 \\times 7$ board is large. You can experiment with smaller boards (the smallest is $4 \\times 4$) and/or changing the winning rule to connect 3 instead of 4."
   ]
  },
  {
   "cell_type": "code",
   "execution_count": 19,
   "metadata": {},
   "outputs": [],
   "source": [
    "# def minimax_ab_search(board, player = 1, **args):\n",
    "#     \"\"\"start the search.\"\"\"\n",
    "#     value, move = max_value_ab(board, player, -math.inf, +math.inf, **args)\n",
    "#     return value, move\n",
    "\n",
    "# def max_value_ab(state, player, alpha, beta, **args):\n",
    "#     \"\"\"player's best move.\"\"\"\n",
    "       \n",
    "#     # return utility of state is a terminal state\n",
    "#     v = utility(state, player, **args)\n",
    "#     if v is not None: return v, None\n",
    "        \n",
    "#     v, move = -math.inf, None\n",
    "\n",
    "#     # check all possible actions in the state, update alpha and return move with the largest value\n",
    "#     for a in available_actions(state):\n",
    "#         v2, a2 = min_value_ab(result(state, player, a), player, alpha, beta, **args)\n",
    "#         if v2 > v:\n",
    "#             v, move = v2, a\n",
    "#             alpha = max(alpha, v)\n",
    "#         if v >= beta: return v, move\n",
    "    \n",
    "#     return v, move\n",
    "\n",
    "# def min_value_ab(state, player, alpha, beta, **args):\n",
    "#     \"\"\"opponent's best response.\"\"\"\n",
    "\n",
    "#     # return utility of state is a terminal state\n",
    "#     v = utility(state, player, **args)\n",
    "#     if v is not None: return v, None\n",
    "    \n",
    "#     v, move = +math.inf, None\n",
    "#     # check all possible actions in the state, update beta and return move with the smallest value\n",
    "#     for a in available_actions(state):\n",
    "#         v2, a2 = max_value_ab(result(state, opponent(player), a), player, alpha, beta, **args)\n",
    "#         if v2 < v:\n",
    "#             v, move = v2, a\n",
    "#             beta = min(beta, v)\n",
    "#         if v <= alpha: return v, move\n",
    "    \n",
    "#     return v, move"
   ]
  },
  {
   "cell_type": "code",
   "execution_count": 64,
   "metadata": {},
   "outputs": [],
   "source": [
    "# global variables\n",
    "DEBUG = 1 # 1 ... count nodes, 2 ... debug each node\n",
    "COUNT = 0\n",
    "\n",
    "def minimax_ab_search(board, player = 1, **args):\n",
    "    \"\"\"start the search.\"\"\"\n",
    "    global DEBUG, COUNT\n",
    "    COUNT = 0\n",
    "    \n",
    "    value, move = max_value_ab(board, player, -math.inf, +math.inf, **args)\n",
    "    \n",
    "    if DEBUG >= 1: print(f\"Number of nodes searched: {COUNT}\") \n",
    "    \n",
    "    return value, move\n",
    "\n",
    "def max_value_ab(state, player, alpha, beta, **args):\n",
    "    \"\"\"player's best move.\"\"\"\n",
    "    global DEBUG, COUNT\n",
    "    COUNT += 1\n",
    "\n",
    "    # return utility of state is a terminal state\n",
    "    v = utility(state, player, **args)\n",
    "    if DEBUG >= 2:\n",
    "        print('max: ') \n",
    "        print(str(state) + str([alpha, beta, v]) )\n",
    "        print() \n",
    "    if v is not None: return v, None\n",
    "        \n",
    "    v, move = -math.inf, None\n",
    "\n",
    "    # check all possible actions in the state, update alpha and return move with the largest value\n",
    "    for a in available_actions(state):\n",
    "        v2, a2 = min_value_ab(result(state, player, a), player, alpha, beta,**args)\n",
    "        if v2 > v: \n",
    "            v, move = v2, a\n",
    "            alpha = max(alpha, v)\n",
    "        if v >= beta: return v, move\n",
    "    \n",
    "    return v, move\n",
    "\n",
    "def min_value_ab(state, player, alpha, beta, **args):\n",
    "    \"\"\"opponent's best response.\"\"\"\n",
    "    global DEBUG, COUNT\n",
    "    COUNT += 1\n",
    "    \n",
    "    # return utility of state is a terminal state\n",
    "    v = utility(state, player, **args)\n",
    "    if DEBUG >= 2:\n",
    "        print('min: ') \n",
    "        print(str(state) + str([alpha, beta, v]) )\n",
    "        print()\n",
    "    if v is not None: return v, None\n",
    "    \n",
    "    v, move = +math.inf, None\n",
    "\n",
    "    # check all possible actions in the state, update beta and return move with the smallest value\n",
    "    for a in available_actions(state):\n",
    "        v2, a2 = max_value_ab(result(state, opponent(player), a), player, alpha, beta, **args)\n",
    "        if v2 < v: \n",
    "            v, move = v2, a\n",
    "            beta = min(beta, v)\n",
    "        if v <= alpha: return v, move\n",
    "    \n",
    "    return v, move"
   ]
  },
  {
   "cell_type": "markdown",
   "metadata": {},
   "source": [
    "Experiment with some manually created boards (at least 5) to check if the agent spots winning opportunities."
   ]
  },
  {
   "cell_type": "code",
   "execution_count": 71,
   "metadata": {},
   "outputs": [
    {
     "output_type": "stream",
     "name": "stdout",
     "text": [
      "[['o' 'o' ' ' ' ']\n ['o' 'x' 'o' ' ']\n ['x' 'x' 'o' ' ']\n ['x' 'o' 'x' 'x']]\n\nNone\nmax: \n[[-1 -1  0  0]\n [-1  1 -1  0]\n [ 1  1 -1  0]\n [ 1 -1  1  1]][-inf, inf, None]\n\nmin: \n[[-1 -1 -1  0]\n [-1  1 -1  0]\n [ 1  1 -1  0]\n [ 1 -1  1  1]][-inf, inf, 1]\n\nmin: \n[[-1 -1  0  0]\n [-1  1 -1  0]\n [ 1  1 -1 -1]\n [ 1 -1  1  1]][1, inf, None]\n\nmax: \n[[-1 -1  1  0]\n [-1  1 -1  0]\n [ 1  1 -1 -1]\n [ 1 -1  1  1]][1, inf, None]\n\nmin: \n[[-1 -1  1  0]\n [-1  1 -1 -1]\n [ 1  1 -1 -1]\n [ 1 -1  1  1]][1, inf, None]\n\nmax: \n[[-1 -1  1  1]\n [-1  1 -1 -1]\n [ 1  1 -1 -1]\n [ 1 -1  1  1]][1, inf, -1]\n\nNumber of nodes searched: 6\n"
     ]
    },
    {
     "output_type": "display_data",
     "data": {
      "text/plain": "(1, 2)"
     },
     "metadata": {}
    },
    {
     "output_type": "stream",
     "name": "stdout",
     "text": [
      "4.12 ms ± 0 ns per loop (mean ± std. dev. of 1 run, 1 loop each)\n"
     ]
    }
   ],
   "source": [
    "def create_board_3(**args):\n",
    "    board = empty_board(**args)\n",
    "    board[3,0] = 1\n",
    "    board[2,0] = 1\n",
    "    board[1,0] = -1\n",
    "    board[0,0] = -1\n",
    "    board[3,1] = -1\n",
    "    board[2,1] = 1\n",
    "    board[1,1] = 1\n",
    "    board[0,1] = -1\n",
    "    board[3,2] = 1\n",
    "    board[2,2] = -1\n",
    "    board[1,2] = -1\n",
    "    board[3,3] = 1\n",
    "    # board[0,2] = -1\n",
    "    return board\n",
    "\n",
    "board = create_board_3(shape=(4,4))\n",
    "show_board(board)\n",
    "print(utility(board,-1,number=3))\n",
    "# print(available_actions(board))\n",
    "\n",
    "DEBUG = 2\n",
    "\n",
    "%timeit -n1 -r1 display(minimax_ab_search(board,player=-1,number=3))"
   ]
  },
  {
   "cell_type": "code",
   "execution_count": null,
   "metadata": {},
   "outputs": [],
   "source": [
    "# test 1\n",
    "DEBUG = 2\n",
    "\n",
    "def create_board_1(**args):\n",
    "    board = empty_board(**args)\n",
    "    board[-1,0] = 1\n",
    "    board[-2,0] = 1\n",
    "    board[-1,-2] = -1\n",
    "    board[-1,-3] = -1\n",
    "    return board\n",
    "\n",
    "board = create_board_1(shape=(4,4))\n",
    "show_board(board)\n",
    "\n",
    "\n",
    "%timeit -n1 -r1 display(minimax_ab_search(board,player=-1,number=3))"
   ]
  },
  {
   "cell_type": "code",
   "execution_count": null,
   "metadata": {
    "tags": []
   },
   "outputs": [],
   "source": [
    "# test 2\n",
    "def create_board_2(**args):\n",
    "    board = empty_board(**args)\n",
    "    board[-1,1] = 1\n",
    "    board[-2,1] = 1\n",
    "    board[-1,2] = -1\n",
    "    board[-2,2] = 1\n",
    "    board[-1,3] = -1\n",
    "    board[-2,3] = -1\n",
    "    board[-3,3] = 1\n",
    "    board[-1,4] = -1\n",
    "    board[-2,4] = -1\n",
    "    board[-3,4] = -1\n",
    "    board[-1,5] = 1\n",
    "    board[-2,5] = 1\n",
    "    return board\n",
    "\n",
    "board = create_board_2()\n",
    "show_board(board)\n",
    "\n",
    "# %timeit -n1 -r1 display(minimax_ab_search(board,player=1,number=4))\n",
    "display(minimax_ab_search(board))"
   ]
  },
  {
   "cell_type": "code",
   "execution_count": null,
   "metadata": {},
   "outputs": [],
   "source": [
    "def create_board(round=2,**args):\n",
    "    \"\"\"randomly create a board with round*2 pieces\"\"\"\n",
    "    board = empty_board(**args)\n",
    "    for i in range(round):\n",
    "        board = result(board,1,np.random.choice(available_actions(board)))\n",
    "        board = result(board,-1,np.random.choice(available_actions(board)))\n",
    "    return board"
   ]
  },
  {
   "cell_type": "code",
   "execution_count": null,
   "metadata": {},
   "outputs": [],
   "source": [
    "# test 2\n",
    "board = create_board(shape=(4,4))\n",
    "show_board(board)\n",
    "%timeit -n1 -r1 display(minimax_ab_search(board,player=1,number=3))"
   ]
  },
  {
   "cell_type": "code",
   "execution_count": null,
   "metadata": {},
   "outputs": [],
   "source": [
    "# test 3\n",
    "board = create_board(shape=(4,4))\n",
    "show_board(board)\n",
    "%timeit -n1 -r1 display(minimax_ab_search(board,player=1,number=3))"
   ]
  },
  {
   "cell_type": "code",
   "execution_count": null,
   "metadata": {},
   "outputs": [],
   "source": [
    "# test 4\n",
    "board = create_board(shape=(4,4))\n",
    "show_board(board)\n",
    "%timeit -n1 -r1 display(minimax_ab_search(board,player=1,number=3))"
   ]
  },
  {
   "cell_type": "code",
   "execution_count": null,
   "metadata": {},
   "outputs": [],
   "source": [
    "# test 5\n",
    "board = empty_board(shape=(4,4))\n",
    "board[3,0] = -1\n",
    "board[2,0] = -1\n",
    "board[3,2] = 1\n",
    "board[3,3] = 1\n",
    "show_board(board)\n",
    "show_board(board,raw_display=True)\n",
    "\n",
    "%timeit -n1 -r1 display(minimax_ab_search(board,player=-1,number=3))"
   ]
  },
  {
   "cell_type": "code",
   "execution_count": null,
   "metadata": {},
   "outputs": [],
   "source": [
    "# Your code/ answer goes here."
   ]
  },
  {
   "cell_type": "markdown",
   "metadata": {},
   "source": [
    "How long does it take to make a move? Start with a smaller board with 4 columns and make the board larger by adding columns."
   ]
  },
  {
   "cell_type": "code",
   "execution_count": null,
   "metadata": {},
   "outputs": [],
   "source": [
    "# Your code/ answer goes here."
   ]
  },
  {
   "cell_type": "markdown",
   "metadata": {},
   "source": [
    "### Move ordering\n",
    "\n",
    "Describe and implement a simple move ordering strategy. How does this strategy influence the time it takes to \n",
    "make a move?"
   ]
  },
  {
   "cell_type": "code",
   "execution_count": null,
   "metadata": {},
   "outputs": [],
   "source": [
    "# Your code/ answer goes here."
   ]
  },
  {
   "cell_type": "markdown",
   "metadata": {},
   "source": [
    "### Playtime\n",
    "\n",
    "Let the Minimax Search agent play a random agent on a small board. Analyze wins, losses and draws."
   ]
  },
  {
   "cell_type": "code",
   "execution_count": null,
   "metadata": {},
   "outputs": [],
   "source": [
    "def minimax_ab_player(board, player = 1,**args):\n",
    "    value, action = minimax_ab_search(board, player, **args)\n",
    "    return action"
   ]
  },
  {
   "cell_type": "code",
   "execution_count": null,
   "metadata": {},
   "outputs": [],
   "source": [
    "# Your code/ answer goes here.\n",
    "DEBUG = 0\n",
    "print()\n",
    "%timeit -n 1 -r 1 display(play(lambda: empty_board(shape=(6,7)), minimax_ab_player, minimax_ab_player, first_move_agent_name='alpha_beta_player_1', second_move_agent_name='alpha_beta_player_2', plot=True, N = 1, number=4))"
   ]
  },
  {
   "cell_type": "markdown",
   "metadata": {},
   "source": [
    "## Task 4: Heuristic Alpha-Beta Tree Search [3 points] \n",
    "\n",
    "### Heuristic evaluation function\n",
    "\n",
    "Define and implement a heuristic evaluation function."
   ]
  },
  {
   "cell_type": "code",
   "execution_count": null,
   "metadata": {},
   "outputs": [],
   "source": [
    "# Your code/ answer goes here."
   ]
  },
  {
   "cell_type": "code",
   "execution_count": null,
   "metadata": {},
   "outputs": [],
   "source": [
    "# global variables\n",
    "DEBUG = 1 # 1 ... count nodes, 2 ... debug each node\n",
    "COUNT = 0\n",
    "\n",
    "def alpha_beta_search(board, cutoff = None, player = 'x'):\n",
    "    \"\"\"start the search.\"\"\"\n",
    "    global DEBUG, COUNT\n",
    "    COUNT = 0\n",
    "\n",
    "    value, move = max_value_ab(board, player, -math.inf, +math.inf, 0, cutoff)\n",
    "    \n",
    "    if DEBUG >= 1: print(f\"Number of nodes searched (cutoff = {cutoff}): {COUNT}\") \n",
    "    \n",
    "    return value, move\n",
    "\n",
    "def max_value_ab(state, player, alpha, beta, depth, cutoff):\n",
    "    \"\"\"player's best move.\"\"\"\n",
    "    global DEBUG, COUNT\n",
    "    COUNT += 1\n",
    "    \n",
    "    # cut off and terminal test\n",
    "    v, terminal = eval_fun(state, player)\n",
    "    if((cutoff is not None and depth >= cutoff) or terminal): \n",
    "        if(terminal): alpha, beta = v, v\n",
    "        if DEBUG >= 2: print(f\"stopped at {depth}: {state} term: {terminal} eval: {v} [{alpha}, {beta}]\" ) \n",
    "        return v, None\n",
    "    \n",
    "    v, move = -math.inf, None\n",
    "\n",
    "    # check all possible actions in the state, update alpha and return move with the largest value\n",
    "    for a in get_actions(state):\n",
    "        v2, a2 = min_value_ab(result(state, player, a), player, alpha, beta, depth + 1, cutoff)\n",
    "        if v2 > v:\n",
    "            v, move = v2, a\n",
    "            alpha = max(alpha, v)\n",
    "        if v >= beta: return v, move\n",
    "    \n",
    "    return v, move\n",
    "\n",
    "def min_value_ab(state, player, alpha, beta, depth, cutoff):\n",
    "    \"\"\"opponent's best response.\"\"\"\n",
    "    global DEBUG, COUNT\n",
    "    COUNT += 1\n",
    "    \n",
    "    # cut off and terminal test\n",
    "    v, terminal = eval_fun(state, player)\n",
    "    #if((cutoff is not None and depth >= cutoff) or terminal): \n",
    "    # always let the opponent make her move\n",
    "    if(terminal): \n",
    "        if(terminal): alpha, beta = v, v\n",
    "        if DEBUG >= 2: print(f\"stopped at {depth}: {state} term: {terminal} eval: {v} [{alpha}, {beta}]\" ) \n",
    "        return v, None\n",
    "    \n",
    "    v, move = +math.inf, None\n",
    "\n",
    "    # check all possible actions in the state, update beta and return move with the smallest value\n",
    "    for a in get_actions(state):\n",
    "        v2, a2 = max_value_ab(result(state, other(player), a), player, alpha, beta, depth + 1, cutoff)\n",
    "        if v2 < v:\n",
    "            v, move = v2, a\n",
    "            beta = min(beta, v)\n",
    "        if v <= alpha: return v, move\n",
    "    \n",
    "    return v, move"
   ]
  },
  {
   "cell_type": "markdown",
   "metadata": {},
   "source": [
    "### Cutting off search \n",
    "\n",
    "Modify your Minimax Search with Alpha-Beta Pruning to cut off search at a specified depth and use the heuristic evaluation function. Experiment with different cutoff values."
   ]
  },
  {
   "cell_type": "code",
   "execution_count": null,
   "metadata": {},
   "outputs": [],
   "source": [
    "# Your code/ answer goes here."
   ]
  },
  {
   "cell_type": "markdown",
   "metadata": {},
   "source": [
    "Experiment with the same manually created boards as above to check if the agent spots wining opportunities."
   ]
  },
  {
   "cell_type": "code",
   "execution_count": null,
   "metadata": {},
   "outputs": [],
   "source": [
    "# Your code/ answer goes here."
   ]
  },
  {
   "cell_type": "markdown",
   "metadata": {},
   "source": [
    "How long does it take to make a move? Start with a smaller board with 4 columns and make the board larger by adding columns."
   ]
  },
  {
   "cell_type": "code",
   "execution_count": null,
   "metadata": {},
   "outputs": [],
   "source": [
    "# Your code/ answer goes here."
   ]
  },
  {
   "cell_type": "markdown",
   "metadata": {},
   "source": [
    "### Playtime\n",
    "\n",
    "Let two heuristic search agents (different cutoff depth, different heuristic evaluation function) compete against each other on a reasonably sized board. Since there is no randomness, you only need to let them play once."
   ]
  },
  {
   "cell_type": "code",
   "execution_count": null,
   "metadata": {},
   "outputs": [],
   "source": [
    "# Your code/ answer goes here."
   ]
  },
  {
   "cell_type": "markdown",
   "metadata": {},
   "source": [
    "## Challenge task [+ 1 bonus point]\n",
    "\n",
    "Find another student and let your best agent play against the other student's best player. We will set up a class tournament on Canvas. This tournament will continue after the submission deadline."
   ]
  },
  {
   "cell_type": "markdown",
   "metadata": {},
   "source": [
    "## Graduate student advanced task: Pure Monte Carlo Search and Best First Move [1 point]\n",
    "\n",
    "__Undergraduate students:__ This is a bonus task you can attempt if you like [+1 Bonus point].\n",
    "\n",
    "### Pure Monte Carlos Search\n",
    "\n",
    "Implement Pure Monte Carlo Search and investigate how this search performs on the test boards that you have used above. "
   ]
  },
  {
   "cell_type": "code",
   "execution_count": null,
   "metadata": {},
   "outputs": [],
   "source": [
    "# Your code/ answer goes here."
   ]
  },
  {
   "cell_type": "markdown",
   "metadata": {},
   "source": [
    "### Best First Move\n",
    "\n",
    "How would you determine what the best first move is? You can use Pure Monte Carlo Search or any algorithms \n",
    "that you have implemented above."
   ]
  },
  {
   "cell_type": "code",
   "execution_count": null,
   "metadata": {},
   "outputs": [],
   "source": [
    "# Your code/ answer goes here."
   ]
  }
 ],
 "metadata": {
  "kernelspec": {
   "display_name": "Python 3",
   "language": "python",
   "name": "python3"
  }
 },
 "nbformat": 4,
 "nbformat_minor": 4
}