{
 "cells": [
  {
   "cell_type": "markdown",
   "metadata": {},
   "source": [
    "# Search: Solving a Maze Using a Goal-based Agent\n",
    "\n",
    "\n",
    "## Instructions\n",
    "\n",
    "Total Points: Undegraduates 10, graduate students 11\n",
    "\n",
    "Complete this notebook and submit it. The notebook needs to be a complete project report with \n",
    "\n",
    "* your implementation,\n",
    "* documentation including a short discussion of how your implementation works and your design choices, and\n",
    "* experimental results (e.g., tables and charts with simulation results) with a short discussion of what they mean. \n",
    "\n",
    "Use the provided notebook cells and insert additional code and markdown cells as needed.\n",
    "\n",
    "\n",
    "## Introduction\n",
    "\n",
    "The agent has a map of the maze it is in (i.e., the environment is deterministic, discrete, and known). The agent must use the map to plan a path through the maze from the starting location $S$ to the goal location $G$.  \n",
    "\n",
    "This is a planing exercise for a goal-based agent, so you do not need to implement an environment, just use the map to search for a path. Once the plan is made, the agent can just follow the path and does not need percepts. The execution phase is trivial and we do not implement it in this exercise.\n",
    "\n",
    "Tree search algorithm implementations that you find online and used in general algorithms courses have often a different aim. These algorithms assume that you already have a tree and the goal is to traverse all nodes. We are interested in dynamically creating a search tree with the aim of finding a good/the best path to the goal state. Follow the pseudo code presented in the text book closely. Ideally, we would like to search only a small part of the maze, i.e., create a search tree with as few nodes as possible. \n",
    "\n",
    "Here is the small example maze:"
   ]
  },
  {
   "cell_type": "code",
   "execution_count": 48,
   "metadata": {},
   "outputs": [],
   "source": [
    "# import os\n",
    "# script_dir = os.getcwd()\n",
    "# script_dir"
   ]
  },
  {
   "cell_type": "code",
   "execution_count": 49,
   "metadata": {},
   "outputs": [
    {
     "name": "stdout",
     "output_type": "stream",
     "text": [
      "XXXXXXXXXXXXXXXXXXXXXX\n",
      "X XX        X X      X\n",
      "X    XXXXXX X XXXXXX X\n",
      "XXXXXX     S  X      X\n",
      "X    X XXXXXX XX XXXXX\n",
      "X XXXX X         X   X\n",
      "X        XXX XXX   X X\n",
      "XXXXXXXXXX    XXXXXX X\n",
      "XG         XX        X\n",
      "XXXXXXXXXXXXXXXXXXXXXX\n",
      "\n"
     ]
    }
   ],
   "source": [
    "f = open(\"small_maze.txt\", \"r\")\n",
    "maze_str = f.read()\n",
    "print(maze_str)"
   ]
  },
  {
   "cell_type": "markdown",
   "metadata": {},
   "source": [
    "__Note:__ The mazes above contains cycles and therefore search may not form proper trees unless cycles are prevented. You need to deal with cycle detection in your code."
   ]
  },
  {
   "cell_type": "markdown",
   "metadata": {},
   "source": [
    "## Parsing and pretty printing the maze\n",
    "\n",
    "The maze can also be displayed in color using code in the file [maze_helper.py](maze_helper.py). The code parses the string representing the maze and converts it into a `numpy` 2d array which you can use in your implementation. I represent a position as a 2-tuple of the form `(row, col)`. "
   ]
  },
  {
   "cell_type": "code",
   "execution_count": 50,
   "metadata": {
    "scrolled": true
   },
   "outputs": [
    {
     "name": "stdout",
     "output_type": "stream",
     "text": [
      "[['X' 'X' 'X' 'X' 'X' 'X' 'X' 'X' 'X' 'X' 'X' 'X' 'X' 'X' 'X' 'X' 'X' 'X'\n",
      "  'X' 'X' 'X' 'X']\n",
      " ['X' ' ' 'X' 'X' ' ' ' ' ' ' ' ' ' ' ' ' ' ' ' ' 'X' ' ' 'X' ' ' ' ' ' '\n",
      "  ' ' ' ' ' ' 'X']\n",
      " ['X' ' ' ' ' ' ' ' ' 'X' 'X' 'X' 'X' 'X' 'X' ' ' 'X' ' ' 'X' 'X' 'X' 'X'\n",
      "  'X' 'X' ' ' 'X']\n",
      " ['X' 'X' 'X' 'X' 'X' 'X' ' ' ' ' ' ' ' ' ' ' 'S' ' ' ' ' 'X' ' ' ' ' ' '\n",
      "  ' ' ' ' ' ' 'X']\n",
      " ['X' ' ' ' ' ' ' ' ' 'X' ' ' 'X' 'X' 'X' 'X' 'X' 'X' ' ' 'X' 'X' ' ' 'X'\n",
      "  'X' 'X' 'X' 'X']\n",
      " ['X' ' ' 'X' 'X' 'X' 'X' ' ' 'X' ' ' ' ' ' ' ' ' ' ' ' ' ' ' ' ' ' ' 'X'\n",
      "  ' ' ' ' ' ' 'X']\n",
      " ['X' ' ' ' ' ' ' ' ' ' ' ' ' ' ' ' ' 'X' 'X' 'X' ' ' 'X' 'X' 'X' ' ' ' '\n",
      "  ' ' 'X' ' ' 'X']\n",
      " ['X' 'X' 'X' 'X' 'X' 'X' 'X' 'X' 'X' 'X' ' ' ' ' ' ' ' ' 'X' 'X' 'X' 'X'\n",
      "  'X' 'X' ' ' 'X']\n",
      " ['X' 'G' ' ' ' ' ' ' ' ' ' ' ' ' ' ' ' ' ' ' 'X' 'X' ' ' ' ' ' ' ' ' ' '\n",
      "  ' ' ' ' ' ' 'X']\n",
      " ['X' 'X' 'X' 'X' 'X' 'X' 'X' 'X' 'X' 'X' 'X' 'X' 'X' 'X' 'X' 'X' 'X' 'X'\n",
      "  'X' 'X' 'X' 'X']]\n",
      "Position(0,0): X\n",
      "Position(8,1): G\n"
     ]
    },
    {
     "data": {
      "text/plain": "<Figure size 432x288 with 0 Axes>"
     },
     "metadata": {},
     "output_type": "display_data"
    }
   ],
   "source": [
    "%run maze_helper.py\n",
    "import random\n",
    "\n",
    "maze = parse_maze(maze_str)\n",
    "\n",
    "print(maze)\n",
    "\n",
    "# look at two positions in the maze\n",
    "print(\"Position(0,0):\", maze[0, 0])\n",
    "\n",
    "# there is also a helper function called `look(maze, pos)`\n",
    "print(\"Position(8,1):\", look(maze, (8, 1)))"
   ]
  },
  {
   "cell_type": "markdown",
   "metadata": {},
   "source": [
    "Visualize the maze"
   ]
  },
  {
   "cell_type": "code",
   "execution_count": 51,
   "metadata": {},
   "outputs": [
    {
     "data": {
      "image/png": "[encoded data removed]",
      "text/plain": "<Figure size 432x288 with 1 Axes>"
     },
     "metadata": {
      "image/png": {
       "height": 183,
       "width": 362
      },
      "needs_background": "light"
     },
     "output_type": "display_data"
    }
   ],
   "source": [
    "%matplotlib inline\n",
    "%config InlineBackend.figure_format = 'retina'\n",
    "# use higher resolution images in notebook\n",
    "\n",
    "show_maze(maze)"
   ]
  },
  {
   "cell_type": "markdown",
   "metadata": {},
   "source": [
    "Find the position of the start and the goal using the helper function `find_pos()`"
   ]
  },
  {
   "cell_type": "code",
   "execution_count": 52,
   "metadata": {},
   "outputs": [
    {
     "name": "stdout",
     "output_type": "stream",
     "text": [
      "Start location: (3, 11)\n",
      "Goal location: (8, 1)\n"
     ]
    }
   ],
   "source": [
    "print(\"Start location:\", find_pos(maze, what = \"S\"))\n",
    "print(\"Goal location:\", find_pos(maze, what = \"G\"))"
   ]
  },
  {
   "cell_type": "markdown",
   "metadata": {},
   "source": [
    "## Tree structure\n",
    "\n",
    "Here is an implementation of the basic node structure for the search algorithms (see Fig 3.7 on page 73). I have added a method that extracts the path from the root node to the current node. It can be used to get the path when the search is completed."
   ]
  },
  {
   "cell_type": "markdown",
   "metadata": {},
   "source": [
    "## I have modified this class by adding some functions to meet the needs when working on the search algorithms."
   ]
  },
  {
   "cell_type": "code",
   "execution_count": 53,
   "metadata": {},
   "outputs": [],
   "source": [
    "class Node:\n",
    "    def __init__(self, pos, parent, action, cost):\n",
    "        self.pos = tuple(pos)    # the state; positions are (row,col)\n",
    "        self.parent = parent     # reference to parent node. None means root node.\n",
    "        self.action = action     # action used in the transition function (root node has None)\n",
    "        self.cost = cost         # for uniform cost this is the depth. It is also g(n) for A* search\n",
    "\n",
    "    def __str__(self):\n",
    "        return f\"Node - pos = {self.pos}; action = {self.action}; cost = {self.cost}\"\n",
    "    \n",
    "    def __eq__(self,other):# Here I redefined the object comparison method in order to verify the node if visited\n",
    "        if self.pos == other.pos: return True\n",
    "        else : return False\n",
    "    \n",
    "    def __bool__(self): # define the bool attribute of the object as True\n",
    "        return True\n",
    "\n",
    "    def is_circle(self): # to verify if the node is in a circle\n",
    "        node = self\n",
    "        path = [node]\n",
    "\n",
    "        while not node.parent is None:\n",
    "            node = node.parent\n",
    "            if node in path:\n",
    "                return True\n",
    "            path.append(node)\n",
    "\n",
    "        return False\n",
    "\n",
    "    def get_path_from_root(self):\n",
    "        \"\"\"returns nodes on the path from the root to the current node.\"\"\"\n",
    "        node = self\n",
    "        path = [node]\n",
    "    \n",
    "        while not node.parent is None:\n",
    "            node = node.parent\n",
    "            path.append(node)\n",
    "        \n",
    "        path.reverse()\n",
    "        \n",
    "        return(path)"
   ]
  },
  {
   "cell_type": "markdown",
   "metadata": {},
   "source": [
    "If needed, then you can add more fields to the class.\n",
    "\n",
    "\n",
    "__Tree and memory management example:__ Create the root node and append the node for going east with a cost of 1."
   ]
  },
  {
   "cell_type": "code",
   "execution_count": 54,
   "metadata": {},
   "outputs": [],
   "source": [
    "import sys\n",
    "\n",
    "# print(\"Create root node\")\n",
    "# root = Node(pos = (0,0), parent = None, action = None, cost = 0)\n",
    "# print(\"root:\", root)\n",
    "# print(\"root (reference):\", repr(root))\n",
    "\n",
    "# print()\n",
    "# print(\"Go east with cost 1 (from the parent root)\")\n",
    "# node2 = Node(pos = (0,1), parent = root, action = \"E\", cost = 1)\n",
    "# print(\"node2:\", node2)\n",
    "# print(\"parent of node2: \", node2.parent)\n",
    "# print(\"parent of node2 (reference): \", repr(node2.parent))\n",
    "# # Note: -1 is used because passing root to getrefcount adds one reference\n",
    "# print(\"Root is now referenced twice. Reference count for garbage collection (root node):\", sys.getrefcount(root)-1)\n",
    "\n",
    "# print()\n",
    "# print(\"Note that the root node is safe from garbage collection as long as we have also a reference in node2\") \n",
    "# root = None\n",
    "# print(root)\n",
    "# print(\"parent of node2 (reference to root node): \", repr(node2.parent))\n",
    "# print(\"Reference count for garbage collection (root node):\", sys.getrefcount(node2.parent)-1)\n",
    "\n",
    "# print()\n",
    "# print(\"Path from root to node2\")\n",
    "# path = node2.get_path_from_root()\n",
    "# print(\"References:\", path)\n",
    "# print(\"Positions:\", [n.pos for n in path])\n",
    "# print(\"Actions:\", [n.action for n in path])\n",
    "# print(\"Cost:\", [n.cost for n in path])\n",
    "\n",
    "# print()\n",
    "# node3 = Node(pos=(0,2), parent=node2,action=\"E\",cost=1)\n",
    "# path = node3.get_path_from_root()\n",
    "# print(\"References:\", path)\n",
    "# print(\"Positions:\", [n.pos for n in path])\n",
    "# print(\"Actions:\", [n.action for n in path])\n",
    "# print(\"Cost:\", [n.cost for n in path])\n",
    "\n",
    "\n",
    "# print()\n",
    "# print(\"Once we delete the reference to node2, the reference count for all nodes goes to zero and the whole tree is exposed to garbage collection.\")\n",
    "# node2 = None\n",
    "\n"
   ]
  },
  {
   "cell_type": "markdown",
   "metadata": {},
   "source": [
    "# Goal\n",
    "Implement the following search algorithms for solving different mazes:\n",
    "\n",
    "* Breadth-first search (BFS)\n",
    "* Depth-first search (DFS)\n",
    "* Greedy best-first search (GBFS)\n",
    "* A* search\n",
    "\n",
    "Run each of the above algorithms on the \n",
    "[small maze](small_maze.txt), \n",
    "[medium maze](medium_maze.txt), \n",
    "[large maze](large_maze.txt), \n",
    "[open maze](open_maze.txt),\n",
    "[wall maze](wall_maze.txt),\n",
    "[loops maze](loops_maze.txt),\n",
    "[empty maze](empty_maze.txt), and\n",
    "[empty 2_maze](empty_2_maze.txt).\n",
    "For each problem instance and each search algorithm, report the following in a table:\n",
    "\n",
    "* The solution and its path cost\n",
    "* Number of nodes expanded\n",
    "* Maximum tree depth\n",
    "* Maximum size of the frontier\n",
    "\n",
    "Display each solution by marking every maze square (or state) visited and the squares on the final path."
   ]
  },
  {
   "cell_type": "markdown",
   "metadata": {},
   "source": [
    "## Task 1: Defining the search Problem [1 point]\n",
    "\n",
    "Define the components of the search problem:\n",
    "\n",
    "* Initial state\n",
    "* Actions\n",
    "* Transition model\n",
    "* Goal state\n",
    "* Path cost"
   ]
  },
  {
   "cell_type": "markdown",
   "metadata": {},
   "source": [
    "# Your answer goes here\n",
    "* Initial state: S point in the maze\n",
    "* Action : four directions such as east, west, north and south\n",
    "* Transition model : set of actions from location S to location G\n",
    "* Goal state : reaching the location of G point in the maze\n",
    "* Path cost: the sum of step costs from S to G\n"
   ]
  },
  {
   "cell_type": "markdown",
   "metadata": {},
   "source": [
    "## this function is used for seeking multiple goals\n",
    "\n",
    "I design these functions since I plan to implement the multiple goals of BFS, DFS and IDS at first"
   ]
  },
  {
   "cell_type": "code",
   "execution_count": 55,
   "metadata": {},
   "outputs": [],
   "source": [
    "def find_multiple_goal(maze):\n",
    "    tmp = np.where(maze == 'G')\n",
    "    result = []\n",
    "    if len(tmp)>0:\n",
    "        for i in range(len(tmp[0])):\n",
    "            result.append((tmp[0][i],tmp[1][i]))\n",
    "    return result"
   ]
  },
  {
   "cell_type": "markdown",
   "metadata": {},
   "source": [
    "## this function is used for displaying the multiple goals in the maze"
   ]
  },
  {
   "cell_type": "code",
   "execution_count": 56,
   "metadata": {},
   "outputs": [],
   "source": [
    "# it could show multiple goal states\n",
    "def show_maze_v2(maze, fontsize = 10):  \n",
    "    cmap = colors.ListedColormap(['white', 'black', 'blue', 'green', 'red', 'gray', 'orange'])\n",
    "    \n",
    "    # make a deep copy first so the original maze is not changed\n",
    "    maze = np.copy(maze)\n",
    "    \n",
    "    goals = find_multiple_goal(maze)\n",
    "    start = find_pos(maze, 'S')\n",
    "    \n",
    "    # Converts all tile types to integers\n",
    "    maze[maze == ' '] = 0\n",
    "    maze[maze == 'X'] = 1 # wall\n",
    "    maze[maze == 'S'] = 2 # start\n",
    "    maze[maze == 'G'] = 3 # goal\n",
    "    maze[maze == 'P'] = 4 # position/final path\n",
    "    maze[maze == '.'] = 5 # explored squares\n",
    "    maze[maze == 'F'] = 6 # frontier\n",
    "    # Converts all string values to integers\n",
    "    maze = maze.astype(np.int)\n",
    "    \n",
    "    fig, ax = plt.subplots()\n",
    "    ax.imshow(maze, cmap = cmap, norm = colors.BoundaryNorm(list(range(cmap.N + 1)), cmap.N))\n",
    "    \n",
    "    plt.text(start[1], start[0], \"S\", fontsize = fontsize, color = \"white\",\n",
    "                 horizontalalignment = 'center',\n",
    "                 verticalalignment = 'center')\n",
    "    \n",
    "    for goal in goals:\n",
    "        plt.text(goal[1], goal[0], \"G\", fontsize = fontsize, color = \"white\",\n",
    "                 horizontalalignment = 'center',\n",
    "                 verticalalignment = 'center')\n",
    "    \n",
    "    plt.show()"
   ]
  },
  {
   "cell_type": "code",
   "execution_count": 57,
   "metadata": {},
   "outputs": [
    {
     "name": "stdout",
     "output_type": "stream",
     "text": [
      "[(8, 1)]\n"
     ]
    },
    {
     "data": {
      "image/png": "[encoded data removed]",
      "text/plain": "<Figure size 432x288 with 1 Axes>"
     },
     "metadata": {
      "image/png": {
       "height": 183,
       "width": 362
      },
      "needs_background": "light"
     },
     "output_type": "display_data"
    }
   ],
   "source": [
    "# maze[(3,12)] = 'G'\n",
    "# find_pos(maze,'S')\n",
    "\n",
    "a = find_multiple_goal(maze)\n",
    "print(a)\n",
    "\n",
    "show_maze_v2(maze)"
   ]
  },
  {
   "cell_type": "markdown",
   "metadata": {},
   "source": [
    "## This function is used for debugging and displaying the result as talked in the live session.\n",
    "\n",
    "I find it very useful so that I can watch each step whether it meets the expectation "
   ]
  },
  {
   "cell_type": "code",
   "execution_count": 58,
   "metadata": {},
   "outputs": [],
   "source": [
    "# function for debugging \n",
    "# it can display G,S,expanded node,path,wall,frontiers\n",
    "# it's modified based on the function show_maze(which comes from the maze_helper.py)\n",
    "def show_path(maze, result, fontsize=10):\n",
    "    cmap = colors.ListedColormap(['white', 'black', 'blue', 'green', 'red', 'gray', 'orange'])\n",
    "    \n",
    "    # make a deep copy first so the original maze is not changed\n",
    "    maze = np.copy(maze)\n",
    "    \n",
    "    goals = find_multiple_goal(maze)\n",
    "    start = find_pos(maze, 'S')\n",
    "    \n",
    "    if len(result)>1:\n",
    "        goal_nodes = result[0]#goal node list\n",
    "        reached_nodes = result[1]#every node reached yet\n",
    "\n",
    "        for goal_node in goal_nodes:\n",
    "            for node in goal_node.get_path_from_root():\n",
    "                if maze[node.pos] == ' ':\n",
    "                    maze[node.pos] = 'P'\n",
    "            \n",
    "        for reached_node in reached_nodes:\n",
    "            if maze[reached_node.pos] == ' ':\n",
    "                maze[reached_node.pos] = '.'\n",
    "\n",
    "        if len(result)>2:\n",
    "            frontiers = result[2]\n",
    "            for frontier in frontiers:\n",
    "                if maze[frontier.pos] != 'G' and maze[frontier.pos] != 'S':\n",
    "                    maze[frontier.pos] = 'F'\n",
    "\n",
    "        if len(result)>3:\n",
    "            print(\"Path cost:\",result[3][0])\n",
    "            print(\"Node expanded:\",result[3][1])\n",
    "            print(\"Max tree depth:\",result[3][2])\n",
    "            print(\"Max tree size:\",result[3][3])\n",
    "            print(\"Max frontier size:\",result[3][4])\n",
    "\n",
    "    # Converts all tile types to integers\n",
    "    maze[maze == ' '] = 0\n",
    "    maze[maze == 'X'] = 1 # wall\n",
    "    maze[maze == 'S'] = 2 # start\n",
    "    maze[maze == 'G'] = 3 # goal\n",
    "    maze[maze == 'P'] = 4 # position/final path\n",
    "    maze[maze == '.'] = 5 # explored squares\n",
    "    maze[maze == 'F'] = 6 # frontier\n",
    "    # Converts all string values to integers\n",
    "    maze = maze.astype(np.int)\n",
    "    \n",
    "\n",
    "    fig, ax = plt.subplots()\n",
    "    ax.imshow(maze, cmap = cmap, norm = colors.BoundaryNorm(list(range(cmap.N + 1)), cmap.N))\n",
    "    \n",
    "    plt.text(start[1], start[0], \"S\", fontsize = fontsize, color = \"white\",\n",
    "                 horizontalalignment = 'center',\n",
    "                 verticalalignment = 'center')\n",
    "    \n",
    "    for goal in goals:\n",
    "        plt.text(goal[1], goal[0], \"G\", fontsize = fontsize, color = \"white\",\n",
    "                 horizontalalignment = 'center',\n",
    "                 verticalalignment = 'center')\n",
    "    \n",
    "    plt.show()"
   ]
  },
  {
   "cell_type": "markdown",
   "metadata": {},
   "source": [
    "## this function is used for verifying if the node is one of the goal state since there are multiple goals."
   ]
  },
  {
   "cell_type": "code",
   "execution_count": 59,
   "metadata": {},
   "outputs": [],
   "source": [
    "# to verify if it reaches the goal state\n",
    "def is_goal(frontier,goal_states):\n",
    "    if frontier.pos in goal_states: return True\n",
    "    else: return False"
   ]
  },
  {
   "cell_type": "markdown",
   "metadata": {},
   "source": [
    "## Task 2: Breadth-first and Depth-first [4 points]\n",
    "\n",
    "Implement these search strategies. Follow the pseudocode in the textbook/slides. You can use the tree structure shown above to extract the final path from your solution.\n",
    "\n",
    "__Notes:__\n",
    "* You can find maze solving implementations online that use the map to store information. While this is an effective idea for this two-dimensional navigation problem, it typically cannot be used for other search problems. Therefore, follow the textbook and only store information during search in the tree, and the `reached` and `frontier` data structures.\n",
    "* DSF can be implemented using the BFS tree search algorithm and changing the order in which the frontier is expanded (this is equivalent to best-first search with path length as the criterion to expand the next node). However, to take advantage of the significantly smaller memory footprint, you need to implement DFS in a different way without a `reached` data structure and by releasing nodes that are not needed anymore. \n",
    "* If DFS does not use a `reached` data structure, then its cycle checking abilities are limited. You will see in your experiments that open spaces are a problem."
   ]
  },
  {
   "cell_type": "code",
   "execution_count": 60,
   "metadata": {
    "tags": []
   },
   "outputs": [],
   "source": [
    "# Breadth-first search  supports multiple goals\n",
    "# maze: the maze\n",
    "# limit_steps: stop the loop after limite_steps times\n",
    "# debug: if it's True, it prints every step of walking through the maze\n",
    "def BFS(maze,limit_steps = 5000,debug=False,actions = {\"N\":(-1,0), \"S\":(1,0), \"W\":(0,-1), \"E\":(0,1)}):\n",
    "    frontiers = []\n",
    "    reached = []\n",
    "    initial_state = find_pos(maze, what = \"S\")\n",
    "    goal_states = find_multiple_goal(maze)\n",
    "    goal_nodes = []\n",
    "    # measure variables\n",
    "    measure_path_cost = 0\n",
    "    measure_node_expanded = 0\n",
    "    measure_tree_depth = 0\n",
    "    measure_max_tree_size = 0\n",
    "    measure_max_frontier_size = 0\n",
    "\n",
    "    if actions == \"R\":\n",
    "        actions = {\"N\":(-1,0), \"S\":(1,0), \"W\":(0,-1), \"E\":(0,1)}\n",
    "        l = list(actions.items())\n",
    "        random.shuffle(l)\n",
    "        actions = dict(l)\n",
    "    \n",
    "    width,height = maze.shape#width and height of maze\n",
    "    #build the tree\n",
    "    root = Node(pos=initial_state,parent=None,action=None,cost=0)\n",
    "    reached.append(root)\n",
    "    frontiers.append(root)\n",
    "\n",
    "    while frontiers :\n",
    "        if debug: show_path(maze = maze, result=(goal_nodes,reached,frontiers))\n",
    "\n",
    "        #pop a frontier\n",
    "        frontier = frontiers.pop(0)\n",
    "\n",
    "        if len(frontiers)+1 > measure_max_frontier_size: measure_max_frontier_size = len(frontiers)+1 # max frontier size\n",
    "        if frontier.cost > measure_max_tree_size: measure_max_tree_size = frontier.cost#max tree size\n",
    "\n",
    "        if is_goal(frontier,goal_states) and (frontier not in goal_nodes):\n",
    "            goal_nodes.append(frontier)\n",
    "            if len(goal_nodes) == len(goal_states):\n",
    "                measure_path_cost = sum(len(x.get_path_from_root()) for x in goal_nodes)# path cost\n",
    "                measure_node_expanded = len(reached) # number of nodes reached\n",
    "                measure_tree_depth = max(x.cost for x in goal_nodes) # tree depth reached\n",
    "                return goal_nodes,reached,frontiers,[measure_path_cost,measure_node_expanded,measure_tree_depth,measure_max_tree_size,measure_max_frontier_size]\n",
    "        else :\n",
    "            for key,value in actions.items():\n",
    "                curPos = (frontier.pos[0]+value[0],frontier.pos[1]+value[1])\n",
    "                if curPos[0] < width and curPos[1] < height and maze[curPos]!=\"X\":\n",
    "                    subNode = Node(pos=curPos,parent=frontier,action=key,cost=frontier.cost+1)\n",
    "                    if is_goal(subNode,goal_states) and (subNode not in goal_nodes):\n",
    "                        goal_nodes.append(subNode)\n",
    "                        if len(goal_nodes) == len(goal_states):\n",
    "                            measure_path_cost = sum(len(x.get_path_from_root()) for x in goal_nodes)# path cost\n",
    "                            measure_node_expanded = len(reached) # number of nodes reached\n",
    "                            measure_tree_depth = max(x.cost for x in goal_nodes) # tree depth reached\n",
    "                            if subNode.cost > measure_max_tree_size : measure_max_tree_size = subNode.cost#max tree size\n",
    "                            return goal_nodes,reached,frontiers,[measure_path_cost,measure_node_expanded,measure_tree_depth,measure_max_tree_size,measure_max_frontier_size]\n",
    "                    else:\n",
    "                        if subNode not in reached:\n",
    "                            reached.append(subNode)\n",
    "                            frontiers.append(subNode)\n",
    "        limit_steps -= 1\n",
    "        if limit_steps<=0: break\n",
    "    #if there is not a solution, it returns empty of goal_nodes\n",
    "    return ([],reached,[],[measure_path_cost,measure_node_expanded,measure_tree_depth,measure_max_tree_size,measure_max_frontier_size])\n"
   ]
  },
  {
   "cell_type": "code",
   "execution_count": 61,
   "metadata": {},
   "outputs": [
    {
     "name": "stdout",
     "output_type": "stream",
     "text": [
      "CPU times: user 5.43 ms, sys: 81 µs, total: 5.51 ms\n",
      "Wall time: 5.47 ms\n",
      "Path cost: 20\n",
      "Node expanded: 91\n",
      "Max tree depth: 19\n",
      "Max tree size: 19\n",
      "Max frontier size: 8\n"
     ]
    },
    {
     "data": {
      "image/png": "[encoded data removed]",
      "text/plain": "<Figure size 432x288 with 1 Axes>"
     },
     "metadata": {
      "image/png": {
       "height": 183,
       "width": 362
      },
      "needs_background": "light"
     },
     "output_type": "display_data"
    }
   ],
   "source": [
    "%time result = BFS(maze = maze,actions='R', debug=False)\n",
    "show_path(maze,result)"
   ]
  },
  {
   "cell_type": "code",
   "execution_count": 105,
   "metadata": {},
   "outputs": [],
   "source": [
    "# Depth-first search\n",
    "# maze: the maze\n",
    "# limit_steps: stop the loop after limite_steps times\n",
    "# debug: if it's True, it prints every step of walking through the maze\n",
    "# actions: the order of generating sub node from frontier\n",
    "def DFS(maze,limit_steps = 5000,debug=False,actions = {\"N\":(-1,0), \"S\":(1,0), \"W\":(0,-1), \"E\":(0,1)},depth_limit=50):\n",
    "    frontiers = []\n",
    "    reached = []# used for calculating expanded nodes \n",
    "    initial_state = find_pos(maze, what = \"S\")\n",
    "    goal_states = find_multiple_goal(maze)\n",
    "    goal_nodes = []\n",
    "    # measure variables\n",
    "    measure_path_cost = 0\n",
    "    measure_node_expanded = 0\n",
    "    measure_tree_depth = 0\n",
    "    measure_max_tree_size = 0\n",
    "    measure_max_frontier_size = 0\n",
    "\n",
    "    if actions == \"R\":\n",
    "        actions = {\"N\":(-1,0), \"S\":(1,0), \"W\":(0,-1), \"E\":(0,1)}\n",
    "        l = list(actions.items())\n",
    "        random.shuffle(l)\n",
    "        actions = dict(l)\n",
    "    \n",
    "    width,height = maze.shape#width and height of maze\n",
    "    root = Node(pos=initial_state,parent=None,action=None,cost=0)\n",
    "    reached.append(root)\n",
    "    frontiers.append(root)\n",
    "\n",
    "    while frontiers :\n",
    "        if debug: show_path(maze = maze, result=(goal_nodes,reached,frontiers))\n",
    "        frontier = frontiers.pop()\n",
    "\n",
    "        if len(frontiers)+1 > measure_max_frontier_size: measure_max_frontier_size = len(frontiers)+1 # max frontier size\n",
    "        if frontier.cost > measure_max_tree_size: measure_max_tree_size = frontier.cost#max tree size    \n",
    "\n",
    "        if is_goal(frontier,goal_states) and (frontier not in goal_nodes):\n",
    "            goal_nodes.append(frontier)\n",
    "            if len(goal_nodes) == len(goal_states):\n",
    "                measure_path_cost = sum(len(x.get_path_from_root()) for x in goal_nodes)# path cost\n",
    "                measure_node_expanded = len(reached) # number of nodes reached\n",
    "                measure_tree_depth = max(x.cost for x in goal_nodes) # tree depth reached\n",
    "                return goal_nodes,reached,frontiers,[measure_path_cost,measure_node_expanded,measure_tree_depth,measure_max_tree_size,measure_max_frontier_size]\n",
    "        else :\n",
    "            for key,value in actions.items():\n",
    "                curPos = (frontier.pos[0]+value[0],frontier.pos[1]+value[1])\n",
    "                if curPos[0] < width and curPos[1] < height and maze[curPos]!=\"X\" and frontier.cost+1<=depth_limit:\n",
    "                    subNode = Node(pos=curPos,parent=frontier,action=key,cost=frontier.cost+1)\n",
    "                    if subNode.is_circle() or (subNode in frontiers): \n",
    "                        subNode = None\n",
    "                        continue  \n",
    "                    else :\n",
    "                        frontiers.append(subNode)      \n",
    "                    #this code is only used for calculating the expanded nodes\n",
    "                    if subNode not in reached: reached.append(subNode)\n",
    "                            \n",
    "        limit_steps -= 1\n",
    "        if limit_steps<=0: break\n",
    "    #if there is not a solution, it returns False\n",
    "    return ([],reached,[],[measure_path_cost,measure_node_expanded,measure_tree_depth,measure_max_tree_size,measure_max_frontier_size])"
   ]
  },
  {
   "cell_type": "code",
   "execution_count": 115,
   "metadata": {},
   "outputs": [
    {
     "name": "stdout",
     "output_type": "stream",
     "text": [
      "CPU times: user 19 ms, sys: 1.01 ms, total: 20 ms\n",
      "Wall time: 19.1 ms\n",
      "Path cost: 50\n",
      "Node expanded: 94\n",
      "Max tree depth: 49\n",
      "Max tree size: 49\n",
      "Max frontier size: 5\n"
     ]
    },
    {
     "data": {
      "image/png": "[encoded data removed]",
      "text/plain": "<Figure size 432x288 with 1 Axes>"
     },
     "metadata": {
      "image/png": {
       "height": 183,
       "width": 362
      },
      "needs_background": "light"
     },
     "output_type": "display_data"
    }
   ],
   "source": [
    "%time result = DFS(maze = maze,actions='R', debug=False,depth_limit=50)\n",
    "show_path(maze,result)"
   ]
  },
  {
   "cell_type": "code",
   "execution_count": 103,
   "metadata": {},
   "outputs": [],
   "source": [
    "# Iterative deepening search\n",
    "# maze: the maze\n",
    "# limit_steps: stop the loop after limite_steps times\n",
    "# debug: if it's True, it prints every step of walking through the maze\n",
    "# actions: the order of generating sub node from frontier\n",
    "# depth_limit: the maximum depth the tree can reach. If it's set as 0, then it'll gradually increase\n",
    "def IDS(maze,limit_steps = 5000,debug=False,actions = {\"N\":(-1,0), \"S\":(1,0), \"W\":(0,-1), \"E\":(0,1)},depth_limit=50,max_depth_limit=500):\n",
    "    frontiers = []\n",
    "    reached = []\n",
    "    initial_state = find_pos(maze, what = \"S\")\n",
    "    goal_states = find_multiple_goal(maze)\n",
    "    goal_nodes = []\n",
    "    # measure variables\n",
    "    measure_path_cost = 0\n",
    "    measure_node_expanded = 0\n",
    "    measure_tree_depth = 0\n",
    "    measure_max_tree_size = 0\n",
    "    measure_max_frontier_size = 0\n",
    "\n",
    "    if actions == \"R\":\n",
    "        actions = {\"N\":(-1,0), \"S\":(1,0), \"W\":(0,-1), \"E\":(0,1)}\n",
    "        l = list(actions.items())\n",
    "        random.shuffle(l)\n",
    "        actions = dict(l)\n",
    "    \n",
    "    width,height = maze.shape#width and height of maze\n",
    "    #build the tree\n",
    "    root = Node(pos=initial_state,parent=None,action=None,cost=0)\n",
    "    reached.append(root)\n",
    "    frontiers.append(root)\n",
    "\n",
    "    if depth_limit == 0 :\n",
    "        while 1:\n",
    "            depth_limit += 1\n",
    "            if depth_limit >= max_depth_limit: break #to avoid dead loop, if the depth limited increases to the max_depth_limit, then it stops increasing.\n",
    "            frontiers = [root]\n",
    "            reached = [root]\n",
    "            while frontiers :\n",
    "                if debug: show_path(maze = maze, result=(goal_nodes,reached,frontiers))\n",
    "                frontier = frontiers.pop()\n",
    "                if len(frontiers)+1 > measure_max_frontier_size: measure_max_frontier_size = len(frontiers)+1 # max frontier size\n",
    "                if frontier.cost > measure_max_tree_size: measure_max_tree_size = frontier.cost#max tree size\n",
    "                if is_goal(frontier,goal_states) and (frontier not in goal_nodes):\n",
    "                    goal_nodes.append(frontier)\n",
    "                    if len(goal_nodes) == len(goal_states):\n",
    "                        return goal_nodes,reached,frontiers\n",
    "                else :\n",
    "                    for key,value in actions.items():\n",
    "                        curPos = (frontier.pos[0]+value[0],frontier.pos[1]+value[1])\n",
    "                        if curPos[0] < width and curPos[1] < height and maze[curPos]!=\"X\":\n",
    "                            subNode = Node(pos=curPos,parent=frontier,action=key,cost=frontier.cost+1)\n",
    "                            if is_goal(subNode,goal_states) and (subNode not in goal_nodes):\n",
    "                                goal_nodes.append(subNode)\n",
    "                                if len(goal_nodes) == len(goal_states):\n",
    "                                    return goal_nodes,reached,frontiers\n",
    "                            else:\n",
    "                                if subNode not in reached:\n",
    "                                    reached.append(subNode)\n",
    "                                    frontiers.append(subNode)\n",
    "                limit_steps -= 1\n",
    "                if limit_steps<=0: break        \n",
    "\n",
    "    else :\n",
    "        while frontiers :\n",
    "            if debug: show_path(maze = maze, result=(goal_nodes,reached,frontiers))\n",
    "            frontier = frontiers.pop()\n",
    "            if is_goal(frontier,goal_states) and (frontier not in goal_nodes):\n",
    "                goal_nodes.append(frontier)\n",
    "                if len(goal_nodes) == len(goal_states):\n",
    "                    return goal_nodes,reached,frontiers\n",
    "            else :\n",
    "                for key,value in actions.items():\n",
    "                    curPos = (frontier.pos[0]+value[0],frontier.pos[1]+value[1])\n",
    "                    if curPos[0] < width and curPos[1] < height and maze[curPos]!=\"X\" and frontier.cost+1<=depth_limit:\n",
    "                        subNode = Node(pos=curPos,parent=frontier,action=key,cost=frontier.cost+1)\n",
    "                        if subNode.is_circle() or (subNode in frontiers): \n",
    "                            subNode = None\n",
    "                            continue  \n",
    "                        else :\n",
    "                            frontiers.append(subNode)      \n",
    "                        #this code is only used for calculating the expanded nodes\n",
    "                        if subNode not in reached: reached.append(subNode)\n",
    "            limit_steps -= 1\n",
    "            if limit_steps<=0: break\n",
    "    #if there is not a solution, it returns []\n",
    "    return ([],reached)"
   ]
  },
  {
   "cell_type": "code",
   "execution_count": 104,
   "metadata": {},
   "outputs": [
    {
     "name": "stdout",
     "output_type": "stream",
     "text": [
      "CPU times: user 7.09 ms, sys: 118 µs, total: 7.2 ms\n",
      "Wall time: 7.13 ms\n"
     ]
    },
    {
     "data": {
      "image/png": "[encoded data removed]",
      "text/plain": "<Figure size 432x288 with 1 Axes>"
     },
     "metadata": {
      "image/png": {
       "height": 183,
       "width": 362
      },
      "needs_background": "light"
     },
     "output_type": "display_data"
    }
   ],
   "source": [
    "%time result = IDS(maze,depth_limit=0,actions='R')\n",
    "show_path(maze,result)"
   ]
  },
  {
   "cell_type": "markdown",
   "metadata": {},
   "source": [
    "How does BFS and DFS deal with loops (cycles)?"
   ]
  },
  {
   "cell_type": "code",
   "execution_count": 66,
   "metadata": {},
   "outputs": [],
   "source": [
    "# Discussion"
   ]
  },
  {
   "cell_type": "markdown",
   "metadata": {},
   "source": [
    "Are your implementations complete and optimal? Explain why. What is the time and space complexity of each of **your** implementations?"
   ]
  },
  {
   "cell_type": "code",
   "execution_count": 67,
   "metadata": {},
   "outputs": [],
   "source": [
    "# Discussion"
   ]
  },
  {
   "cell_type": "markdown",
   "metadata": {},
   "source": [
    "## Task 3: Implement greedy best-first search and A* search  [4 points]\n",
    "\n",
    "You can use the map to estimate the distance from your current position to the goal using the Manhattan distance (see https://en.wikipedia.org/wiki/Taxicab_geometry) as a heuristic function. Both algorithms are based on Best-First search which requires only a small change from the BFS algorithm you have already implemented (see textbook/slides)."
   ]
  },
  {
   "cell_type": "code",
   "execution_count": 68,
   "metadata": {},
   "outputs": [
    {
     "name": "stdout",
     "output_type": "stream",
     "text": [
      "2\n",
      "1.4142135623730951\n",
      "2\n"
     ]
    }
   ],
   "source": [
    "def euclidean(pos1,pos2):\n",
    "    return np.sqrt(np.sum(np.square(np.subtract(pos1,pos2))))\n",
    "\n",
    "def manhattan(pos1,pos2):\n",
    "    return np.sum(np.abs(np.subtract(pos1,pos2)))\n",
    "\n",
    "# heuristic function\n",
    "# when the initialPos doesn't set, it only estimates the distance from curPos to targetPos\n",
    "# when the initialPos sets, it estimates the sum of distances between curPos to targetPos and between curPos to initialPos\n",
    "def cost_evaluation(curPos,targetPos,initialPos=None,function=manhattan):\n",
    "    if initialPos == None:\n",
    "        return function(curPos,targetPos)\n",
    "    else:\n",
    "        return function(curPos,targetPos)+function(curPos,initialPos)\n",
    "\n",
    "\n",
    "print(manhattan((2,2),(3,1)))\n",
    "print(euclidean((2,2),(3,1)))\n",
    "print(cost_evaluation(curPos=(2,2),targetPos=(3,1)))\n"
   ]
  },
  {
   "cell_type": "code",
   "execution_count": 69,
   "metadata": {},
   "outputs": [],
   "source": [
    "#Greedy best-first search\n",
    "# maze: the maze\n",
    "# limit_steps: stop the loop after limite_steps times\n",
    "# debug: if it's True, it prints every step of walking through the maze\n",
    "# actions: the order of generating sub node from frontier\n",
    "def GBF(maze,limit_steps=5000,debug=False,actions = {\"N\":(-1,0), \"S\":(1,0), \"W\":(0,-1), \"E\":(0,1)}):\n",
    "    frontiers = []\n",
    "    reached = []\n",
    "    initial_state = find_pos(maze, what = \"S\")\n",
    "    goal_state = find_pos(maze, what = 'G')\n",
    "    goal_states = [goal_state]\n",
    "    goal_nodes = []\n",
    "    # measure variables\n",
    "    measure_path_cost = 0\n",
    "    measure_node_expanded = 0\n",
    "    measure_tree_depth = 0\n",
    "    measure_max_tree_size = 0\n",
    "    measure_max_frontier_size = 0\n",
    "\n",
    "    if actions == \"R\":\n",
    "        actions = {\"N\":(-1,0), \"S\":(1,0), \"W\":(0,-1), \"E\":(0,1)}\n",
    "        l = list(actions.items())\n",
    "        random.shuffle(l)\n",
    "        actions = dict(l)\n",
    "    \n",
    "    width,height = maze.shape#width and height of maze\n",
    "    #build the tree\n",
    "    root = Node(pos=initial_state,parent=None,action=None,cost=0)\n",
    "    reached.append(root)\n",
    "    frontiers.append(root)\n",
    "\n",
    "    while frontiers :\n",
    "        if debug: show_path(maze = maze, result=(goal_nodes,reached,frontiers))\n",
    "\n",
    "        if len(frontiers) > 1:\n",
    "            frontiers.sort(key=lambda x: cost_evaluation(curPos = x.pos,targetPos = goal_state))\n",
    "\n",
    "        #pop a frontier\n",
    "        frontier = frontiers.pop(0)\n",
    "\n",
    "        if len(frontiers)+1 > measure_max_frontier_size: measure_max_frontier_size = len(frontiers)+1 # max frontier size\n",
    "        if frontier.cost > measure_max_tree_size: measure_max_tree_size = frontier.cost#max tree size\n",
    "\n",
    "        if is_goal(frontier,goal_states) and (frontier not in goal_nodes):\n",
    "            goal_nodes.append(frontier)\n",
    "            if len(goal_nodes) == len(goal_states):\n",
    "                measure_path_cost = sum(len(x.get_path_from_root()) for x in goal_nodes)# path cost\n",
    "                measure_node_expanded = len(reached) # number of nodes reached\n",
    "                measure_tree_depth = max(x.cost for x in goal_nodes) # tree depth reached\n",
    "                return goal_nodes,reached,frontiers,[measure_path_cost,measure_node_expanded,measure_tree_depth,measure_max_tree_size,measure_max_frontier_size]\n",
    "        else :\n",
    "            for key,value in actions.items():\n",
    "                curPos = (frontier.pos[0]+value[0],frontier.pos[1]+value[1])\n",
    "                if curPos[0] < width and curPos[1] < height and maze[curPos]!=\"X\":\n",
    "                    subNode = Node(pos=curPos,parent=frontier,action=key,cost=frontier.cost+1)\n",
    "                    if is_goal(subNode,goal_states) and (subNode not in goal_nodes):\n",
    "                        goal_nodes.append(subNode)\n",
    "                        if len(goal_nodes) == len(goal_states):\n",
    "                            measure_path_cost = sum(len(x.get_path_from_root()) for x in goal_nodes)# path cost\n",
    "                            measure_node_expanded = len(reached) # number of nodes reached\n",
    "                            measure_tree_depth = max(x.cost for x in goal_nodes) # tree depth reached\n",
    "                            if subNode.cost > measure_max_tree_size : measure_max_tree_size = subNode.cost#max tree size\n",
    "                            return goal_nodes,reached,frontiers,[measure_path_cost,measure_node_expanded,measure_tree_depth,measure_max_tree_size,measure_max_frontier_size]\n",
    "                    else:\n",
    "                        if subNode not in reached:\n",
    "                            reached.append(subNode)\n",
    "                            frontiers.append(subNode)\n",
    "        limit_steps -= 1\n",
    "        if limit_steps<=0: break\n",
    "    #if there is not a solution, it returns empty of goal_nodes\n",
    "    return ([],reached,[],[measure_path_cost,measure_node_expanded,measure_tree_depth,measure_max_tree_size,measure_max_frontier_size])"
   ]
  },
  {
   "cell_type": "code",
   "execution_count": 70,
   "metadata": {},
   "outputs": [
    {
     "name": "stdout",
     "output_type": "stream",
     "text": [
      "CPU times: user 1.69 ms, sys: 7 µs, total: 1.69 ms\n",
      "Wall time: 1.7 ms\n",
      "Path cost: 30\n",
      "Node expanded: 43\n",
      "Max tree depth: 29\n",
      "Max tree size: 29\n",
      "Max frontier size: 5\n"
     ]
    },
    {
     "data": {
      "image/png": "[encoded data removed]",
      "text/plain": "<Figure size 432x288 with 1 Axes>"
     },
     "metadata": {
      "image/png": {
       "height": 183,
       "width": 362
      },
      "needs_background": "light"
     },
     "output_type": "display_data"
    }
   ],
   "source": [
    "%time result = GBF(maze=maze,debug=False)\n",
    "show_path(maze,result)"
   ]
  },
  {
   "cell_type": "code",
   "execution_count": 88,
   "metadata": {},
   "outputs": [],
   "source": [
    "# A* search\n",
    "# maze: the maze\n",
    "# limit_steps: stop the loop after limite_steps times\n",
    "# debug: if it's True, it prints every step of walking through the maze\n",
    "# actions: the order of generating sub node from frontier\n",
    "def AStar(maze,limit_steps=5000,debug=False,actions = {\"N\":(-1,0), \"S\":(1,0), \"W\":(0,-1), \"E\":(0,1)}):\n",
    "    frontiers = []\n",
    "    reached = []\n",
    "    initial_state = find_pos(maze, what = \"S\")\n",
    "    goal_state = find_pos(maze, what = 'G')\n",
    "    goal_states = [goal_state]\n",
    "    goal_nodes = []\n",
    "    # measure variables\n",
    "    measure_path_cost = 0\n",
    "    measure_node_expanded = 0\n",
    "    measure_tree_depth = 0\n",
    "    measure_max_tree_size = 0\n",
    "    measure_max_frontier_size = 0\n",
    "\n",
    "    if actions == \"R\":\n",
    "        actions = {\"N\":(-1,0), \"S\":(1,0), \"W\":(0,-1), \"E\":(0,1)}\n",
    "        l = list(actions.items())\n",
    "        random.shuffle(l)\n",
    "        actions = dict(l)\n",
    "    \n",
    "    width,height = maze.shape#width and height of maze\n",
    "    \n",
    "    root = Node(pos=initial_state,parent=None,action=None,cost=0)\n",
    "    reached.append(root)\n",
    "    frontiers.append(root)\n",
    "\n",
    "    while frontiers :\n",
    "        if debug: show_path(maze = maze, result=(goal_nodes,reached,frontiers))\n",
    "\n",
    "        if len(frontiers) > 1:\n",
    "            frontiers.sort(key=lambda x: cost_evaluation(curPos = x.pos,targetPos = goal_state, initialPos=initial_state))\n",
    "\n",
    "        #pop a frontier\n",
    "        frontier = frontiers.pop(0)\n",
    "\n",
    "        if len(frontiers)+1 > measure_max_frontier_size: measure_max_frontier_size = len(frontiers)+1 # max frontier size\n",
    "\n",
    "        if frontier.cost > measure_max_tree_size: measure_max_tree_size = frontier.cost#max tree size\n",
    "\n",
    "        if is_goal(frontier,goal_states) and (frontier not in goal_nodes):\n",
    "            goal_nodes.append(frontier)\n",
    "            if len(goal_nodes) == len(goal_states):\n",
    "                measure_path_cost = sum(len(x.get_path_from_root()) for x in goal_nodes)# path cost\n",
    "                measure_node_expanded = len(reached) # number of nodes reached\n",
    "                measure_tree_depth = max(x.cost for x in goal_nodes) # tree depth reached\n",
    "                return goal_nodes,reached,frontiers,[measure_path_cost,measure_node_expanded,measure_tree_depth,measure_max_tree_size,measure_max_frontier_size]\n",
    "        else :\n",
    "            for key,value in actions.items():\n",
    "                curPos = (frontier.pos[0]+value[0],frontier.pos[1]+value[1])\n",
    "                if curPos[0] < width and curPos[1] < height and maze[curPos]!=\"X\":\n",
    "                    subNode = Node(pos=curPos,parent=frontier,action=key,cost=frontier.cost+1)\n",
    "                    if is_goal(subNode,goal_states) and (subNode not in goal_nodes):\n",
    "                        goal_nodes.append(subNode)\n",
    "                        if len(goal_nodes) == len(goal_states):\n",
    "                            measure_path_cost = sum(len(x.get_path_from_root()) for x in goal_nodes)# path cost\n",
    "                            measure_node_expanded = len(reached) # number of nodes reached\n",
    "                            measure_tree_depth = max(x.cost for x in goal_nodes) # tree depth reached\n",
    "                            if subNode.cost > measure_max_tree_size : measure_max_tree_size = subNode.cost#max tree size\n",
    "                            return goal_nodes,reached,frontiers,[measure_path_cost,measure_node_expanded,measure_tree_depth,measure_max_tree_size,measure_max_frontier_size]\n",
    "                    else:\n",
    "                        if subNode not in reached:\n",
    "                            reached.append(subNode)\n",
    "                            frontiers.append(subNode)\n",
    "        limit_steps -= 1\n",
    "        if limit_steps<=0: break\n",
    "    #if there is not a solution, it returns empty of goal_nodes\n",
    "    return ([],reached,[],[measure_path_cost,measure_node_expanded,measure_tree_depth,measure_max_tree_size,measure_max_frontier_size])\n",
    "    "
   ]
  },
  {
   "cell_type": "code",
   "execution_count": 89,
   "metadata": {},
   "outputs": [
    {
     "name": "stdout",
     "output_type": "stream",
     "text": [
      "CPU times: user 12.1 ms, sys: 573 µs, total: 12.7 ms\n",
      "Wall time: 12.1 ms\n",
      "Path cost: 30\n",
      "Node expanded: 45\n",
      "Max tree depth: 29\n",
      "Max tree size: 29\n",
      "Max frontier size: 5\n"
     ]
    },
    {
     "data": {
      "image/png": "[encoded data removed]",
      "text/plain": "<Figure size 432x288 with 1 Axes>"
     },
     "metadata": {
      "image/png": {
       "height": 183,
       "width": 362
      },
      "needs_background": "light"
     },
     "output_type": "display_data"
    }
   ],
   "source": [
    "%time result = AStar(maze=maze,debug=False)\n",
    "show_path(maze,result)"
   ]
  },
  {
   "cell_type": "markdown",
   "metadata": {},
   "source": [
    "Are your implementations complete and optimal? What is the time and space complexity?"
   ]
  },
  {
   "cell_type": "code",
   "execution_count": 73,
   "metadata": {},
   "outputs": [],
   "source": [
    "# Discussion"
   ]
  },
  {
   "cell_type": "markdown",
   "metadata": {},
   "source": [
    "## Task 4: Comparison and discussion [2 points] \n",
    "\n",
    "Run experiments to compare the implemented algorithms and present the results as tables and charts. \n",
    "\n",
    "How to deal with issues:\n",
    "\n",
    "* Your implementation returns unexpected results: Try to debug and fix the code. Visualizing the maze, the current path and the frontier after every step is very helpful. If the code still does not work, then mark the result with an asterisk (*) and describe the issue below the table.\n",
    "\n",
    "* Your implementation cannot consistently solve a specific maze and ends up in an infinite loop:\n",
    "    Debug. If it is a shortcoming of the algorithm/implementation, then put \"N/A*\" in the results table and describe why this is happening."
   ]
  },
  {
   "cell_type": "code",
   "execution_count": 74,
   "metadata": {},
   "outputs": [],
   "source": [
    "# Add code, table, charts."
   ]
  },
  {
   "cell_type": "markdown",
   "metadata": {},
   "source": [
    "Complete the following table for each maze.\n",
    "\n",
    "__Small maze__\n",
    "\n",
    "| algorithm | path cost | nodes expanded | max tree depth | max tree size | max frontier size |\n",
    "|-----------|-----------|----------------|----------------|---------------|-------------------|\n",
    "| BFS       |           |                |                |               |                   |\n",
    "| DFS       |           |                |                |               |                   |\n",
    "| GBS       |           |                |                |               |                   |\n",
    "| A*        |           |                |                |               |                   |\n",
    "\n",
    "__Medium Maze__\n",
    "\n",
    "..."
   ]
  },
  {
   "cell_type": "markdown",
   "metadata": {},
   "source": [
    "Discuss the most important lessons you have learned from implementing the different search strategies. "
   ]
  },
  {
   "cell_type": "code",
   "execution_count": 75,
   "metadata": {},
   "outputs": [],
   "source": [
    "# Add discussion"
   ]
  },
  {
   "cell_type": "markdown",
   "metadata": {},
   "source": [
    "## Graduate student advanced task: Multiple Goals [1 point]\n",
    "\n",
    "__Undergraduate students:__ This is a bonus task you can attempt if you like [+1 Bonus point].\n",
    "\n",
    "Create a few mazes with multiple goals by adding one or two more goals to the medium size maze.\n",
    "Solve the maze with your implementations for DFS, BFS, and implement IDS (iterative deepening search using DFS). Run experiments to show which implementations find the optimal solution."
   ]
  },
  {
   "cell_type": "code",
   "execution_count": 76,
   "metadata": {},
   "outputs": [
    {
     "data": {
      "image/png": "[encoded data removed]",
      "text/plain": "<Figure size 432x288 with 1 Axes>"
     },
     "metadata": {
      "image/png": {
       "height": 183,
       "width": 362
      },
      "needs_background": "light"
     },
     "output_type": "display_data"
    }
   ],
   "source": [
    "# Your code/answer goes here\n",
    "f_m = open(\"small_maze_multiple_goals.txt\", \"r\")\n",
    "maze_str_m = f_m.read()\n",
    "maze_m = parse_maze(maze_str_m)\n",
    "\n",
    "show_maze_v2(maze_m)\n"
   ]
  },
  {
   "cell_type": "code",
   "execution_count": 77,
   "metadata": {},
   "outputs": [
    {
     "name": "stdout",
     "output_type": "stream",
     "text": [
      "CPU times: user 1.96 ms, sys: 0 ns, total: 1.96 ms\n",
      "Wall time: 1.97 ms\n",
      "Path cost: 60\n",
      "Node expanded: 80\n",
      "Max tree depth: 19\n",
      "Max tree size: 19\n",
      "Max frontier size: 7\n"
     ]
    },
    {
     "data": {
      "image/png": "[encoded data removed]",
      "text/plain": "<Figure size 432x288 with 1 Axes>"
     },
     "metadata": {
      "image/png": {
       "height": 183,
       "width": 362
      },
      "needs_background": "light"
     },
     "output_type": "display_data"
    }
   ],
   "source": [
    "%time result_m = BFS(maze_m)\n",
    "show_path(maze_m,result_m)"
   ]
  },
  {
   "cell_type": "code",
   "execution_count": 78,
   "metadata": {},
   "outputs": [
    {
     "name": "stdout",
     "output_type": "stream",
     "text": [
      "CPU times: user 2.29 ms, sys: 0 ns, total: 2.29 ms\n",
      "Wall time: 2.29 ms\n"
     ]
    },
    {
     "data": {
      "image/png": "[encoded data removed]",
      "text/plain": "<Figure size 432x288 with 1 Axes>"
     },
     "metadata": {
      "image/png": {
       "height": 183,
       "width": 362
      },
      "needs_background": "light"
     },
     "output_type": "display_data"
    }
   ],
   "source": [
    "%time result_m = DFS(maze_m)\n",
    "show_path(maze_m,result_m)"
   ]
  },
  {
   "cell_type": "code",
   "execution_count": 79,
   "metadata": {},
   "outputs": [
    {
     "name": "stdout",
     "output_type": "stream",
     "text": [
      "CPU times: user 1.99 ms, sys: 0 ns, total: 1.99 ms\n",
      "Wall time: 1.99 ms\n"
     ]
    },
    {
     "data": {
      "image/png": "[encoded data removed]",
      "text/plain": "<Figure size 432x288 with 1 Axes>"
     },
     "metadata": {
      "image/png": {
       "height": 183,
       "width": 362
      },
      "needs_background": "light"
     },
     "output_type": "display_data"
    }
   ],
   "source": [
    "%time result_m = IDS(maze_m)\n",
    "show_path(maze_m,result_m)"
   ]
  },
  {
   "cell_type": "markdown",
   "metadata": {},
   "source": [
    "## More advanced tasks to think about\n",
    "\n",
    "Instead of defining each square as a state (which you probably did), use only intersections as states. Now the storage requirement is reduced, but the path length between two intersections can be different. If we use total path length in number of squares as path cost, how can we make sure that BFS and iterative deepening search is optimal? Change the code to do so."
   ]
  },
  {
   "cell_type": "code",
   "execution_count": 80,
   "metadata": {},
   "outputs": [],
   "source": [
    "# Your code/answer goes here"
   ]
  },
  {
   "cell_type": "markdown",
   "metadata": {},
   "source": [
    "Modify your A* search to add weights (see text book) and explore how different weights influence the result."
   ]
  },
  {
   "cell_type": "code",
   "execution_count": 81,
   "metadata": {},
   "outputs": [],
   "source": [
    "# Your code/answer goes here"
   ]
  },
  {
   "cell_type": "markdown",
   "metadata": {},
   "source": [
    "What happens if the agent does not know the layout of the maze in advance (i.e., faces an unkown, only partially observable environment)? How does the environment look then (PEAS description)? How would you implement a rational agent to solve the maze? What if the agent still has a GPS device to tell the distance to the goal?"
   ]
  },
  {
   "cell_type": "code",
   "execution_count": 82,
   "metadata": {},
   "outputs": [],
   "source": [
    "# Your code/answer goes here"
   ]
  }
 ],
 "metadata": {
  "kernelspec": {
   "display_name": "Python 3",
   "language": "python",
   "name": "python3"
  },
  "language_info": {
   "codemirror_mode": {
    "name": "ipython",
    "version": 3
   },
   "file_extension": ".py",
   "mimetype": "text/x-python",
   "name": "python",
   "nbconvert_exporter": "python",
   "pygments_lexer": "ipython3",
   "version": "3.8.5"
  }
 },
 "nbformat": 4,
 "nbformat_minor": 4
}